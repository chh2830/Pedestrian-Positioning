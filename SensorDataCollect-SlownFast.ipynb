{
 "cells": [
  {
   "cell_type": "code",
   "execution_count": 1,
   "id": "c053d052",
   "metadata": {},
   "outputs": [],
   "source": [
    "import pandas as pd\n",
    "import numpy as np"
   ]
  },
  {
   "cell_type": "code",
   "execution_count": 2,
   "id": "7e95df8b",
   "metadata": {},
   "outputs": [],
   "source": [
    "data = pd.read_csv(r\"C:\\Users\\LENOVO\\Desktop\\SensorConnectData_fastnslow.csv\",skiprows=30)"
   ]
  },
  {
   "cell_type": "code",
   "execution_count": 3,
   "id": "1f74e509",
   "metadata": {},
   "outputs": [
    {
     "name": "stdout",
     "output_type": "stream",
     "text": [
      "Index(['Time', 'inertial-6253.106810:scaledAccelX',\n",
      "       'inertial-6253.106810:scaledAccelY',\n",
      "       'inertial-6253.106810:scaledAccelZ', 'inertial-6253.106810:scaledGyroX',\n",
      "       'inertial-6253.106810:scaledGyroY', 'inertial-6253.106810:scaledGyroZ',\n",
      "       'inertial-6253.106810:deltaThetaX', 'inertial-6253.106810:deltaThetaY',\n",
      "       'inertial-6253.106810:deltaThetaZ', 'inertial-6253.106810:deltaVelX',\n",
      "       'inertial-6253.106810:deltaVelY', 'inertial-6253.106810:deltaVelZ'],\n",
      "      dtype='object')\n",
      "Index(['Time', 'gx', 'gy', 'gz', 'gyx', 'gyy', 'gyz', 'thetax', 'thetay',\n",
      "       'thetaz', 'vx', 'vy', 'vz'],\n",
      "      dtype='object')\n"
     ]
    },
    {
     "data": {
      "text/html": [
       "<div>\n",
       "<style scoped>\n",
       "    .dataframe tbody tr th:only-of-type {\n",
       "        vertical-align: middle;\n",
       "    }\n",
       "\n",
       "    .dataframe tbody tr th {\n",
       "        vertical-align: top;\n",
       "    }\n",
       "\n",
       "    .dataframe thead th {\n",
       "        text-align: right;\n",
       "    }\n",
       "</style>\n",
       "<table border=\"1\" class=\"dataframe\">\n",
       "  <thead>\n",
       "    <tr style=\"text-align: right;\">\n",
       "      <th></th>\n",
       "      <th>Time</th>\n",
       "      <th>gx</th>\n",
       "      <th>gy</th>\n",
       "      <th>gz</th>\n",
       "      <th>gyx</th>\n",
       "      <th>gyy</th>\n",
       "      <th>gyz</th>\n",
       "      <th>thetax</th>\n",
       "      <th>thetay</th>\n",
       "      <th>thetaz</th>\n",
       "      <th>vx</th>\n",
       "      <th>vy</th>\n",
       "      <th>vz</th>\n",
       "    </tr>\n",
       "  </thead>\n",
       "  <tbody>\n",
       "    <tr>\n",
       "      <th>0</th>\n",
       "      <td>2022-07-13 10:37:37.453276</td>\n",
       "      <td>0.945553</td>\n",
       "      <td>0.348379</td>\n",
       "      <td>-0.434298</td>\n",
       "      <td>-0.226261</td>\n",
       "      <td>0.969430</td>\n",
       "      <td>0.602190</td>\n",
       "      <td>-0.002236</td>\n",
       "      <td>0.009503</td>\n",
       "      <td>0.005938</td>\n",
       "      <td>0.009427</td>\n",
       "      <td>0.003536</td>\n",
       "      <td>-0.004403</td>\n",
       "    </tr>\n",
       "    <tr>\n",
       "      <th>1</th>\n",
       "      <td>2022-07-13 10:37:37.463275</td>\n",
       "      <td>0.901161</td>\n",
       "      <td>0.345753</td>\n",
       "      <td>-0.455962</td>\n",
       "      <td>-0.187025</td>\n",
       "      <td>0.842937</td>\n",
       "      <td>0.539810</td>\n",
       "      <td>-0.001824</td>\n",
       "      <td>0.008248</td>\n",
       "      <td>0.005283</td>\n",
       "      <td>0.008931</td>\n",
       "      <td>0.003437</td>\n",
       "      <td>-0.004620</td>\n",
       "    </tr>\n",
       "    <tr>\n",
       "      <th>2</th>\n",
       "      <td>2022-07-13 10:37:37.473276</td>\n",
       "      <td>0.872313</td>\n",
       "      <td>0.345597</td>\n",
       "      <td>-0.464276</td>\n",
       "      <td>-0.127847</td>\n",
       "      <td>0.725312</td>\n",
       "      <td>0.505164</td>\n",
       "      <td>-0.001211</td>\n",
       "      <td>0.007085</td>\n",
       "      <td>0.004919</td>\n",
       "      <td>0.008632</td>\n",
       "      <td>0.003475</td>\n",
       "      <td>-0.004695</td>\n",
       "    </tr>\n",
       "    <tr>\n",
       "      <th>3</th>\n",
       "      <td>2022-07-13 10:37:37.483273</td>\n",
       "      <td>0.876815</td>\n",
       "      <td>0.369927</td>\n",
       "      <td>-0.462890</td>\n",
       "      <td>-0.088266</td>\n",
       "      <td>0.603524</td>\n",
       "      <td>0.488553</td>\n",
       "      <td>-0.000808</td>\n",
       "      <td>0.005895</td>\n",
       "      <td>0.004944</td>\n",
       "      <td>0.008738</td>\n",
       "      <td>0.003721</td>\n",
       "      <td>-0.004663</td>\n",
       "    </tr>\n",
       "    <tr>\n",
       "      <th>4</th>\n",
       "      <td>2022-07-13 10:37:37.493272</td>\n",
       "      <td>0.876794</td>\n",
       "      <td>0.417095</td>\n",
       "      <td>-0.461940</td>\n",
       "      <td>-0.052705</td>\n",
       "      <td>0.470928</td>\n",
       "      <td>0.416008</td>\n",
       "      <td>-0.000482</td>\n",
       "      <td>0.004527</td>\n",
       "      <td>0.004096</td>\n",
       "      <td>0.008758</td>\n",
       "      <td>0.004236</td>\n",
       "      <td>-0.004624</td>\n",
       "    </tr>\n",
       "  </tbody>\n",
       "</table>\n",
       "</div>"
      ],
      "text/plain": [
       "                        Time        gx        gy        gz       gyx  \\\n",
       "0 2022-07-13 10:37:37.453276  0.945553  0.348379 -0.434298 -0.226261   \n",
       "1 2022-07-13 10:37:37.463275  0.901161  0.345753 -0.455962 -0.187025   \n",
       "2 2022-07-13 10:37:37.473276  0.872313  0.345597 -0.464276 -0.127847   \n",
       "3 2022-07-13 10:37:37.483273  0.876815  0.369927 -0.462890 -0.088266   \n",
       "4 2022-07-13 10:37:37.493272  0.876794  0.417095 -0.461940 -0.052705   \n",
       "\n",
       "        gyy       gyz    thetax    thetay    thetaz        vx        vy  \\\n",
       "0  0.969430  0.602190 -0.002236  0.009503  0.005938  0.009427  0.003536   \n",
       "1  0.842937  0.539810 -0.001824  0.008248  0.005283  0.008931  0.003437   \n",
       "2  0.725312  0.505164 -0.001211  0.007085  0.004919  0.008632  0.003475   \n",
       "3  0.603524  0.488553 -0.000808  0.005895  0.004944  0.008738  0.003721   \n",
       "4  0.470928  0.416008 -0.000482  0.004527  0.004096  0.008758  0.004236   \n",
       "\n",
       "         vz  \n",
       "0 -0.004403  \n",
       "1 -0.004620  \n",
       "2 -0.004695  \n",
       "3 -0.004663  \n",
       "4 -0.004624  "
      ]
     },
     "execution_count": 3,
     "metadata": {},
     "output_type": "execute_result"
    }
   ],
   "source": [
    "type(data['Time'])\n",
    "data['Time']=pd.to_datetime(data['Time'])\n",
    "print(data.columns)\n",
    "data.columns=['Time','gx','gy','gz','gyx','gyy','gyz','thetax','thetay','thetaz','vx','vy','vz']\n",
    "print(data.columns)\n",
    "data.head()"
   ]
  },
  {
   "cell_type": "code",
   "execution_count": 4,
   "id": "699fe771",
   "metadata": {},
   "outputs": [
    {
     "data": {
      "text/plain": [
       "[]"
      ]
     },
     "execution_count": 4,
     "metadata": {},
     "output_type": "execute_result"
    },
    {
     "data": {
      "image/png": "[encoded data removed]",
      "text/plain": [
       "<Figure size 432x288 with 1 Axes>"
      ]
     },
     "metadata": {
      "needs_background": "light"
     },
     "output_type": "display_data"
    }
   ],
   "source": [
    "import matplotlib.pyplot as plt\n",
    "plt.plot(data['Time'],data['gx'])\n",
    "plt.plot()"
   ]
  },
  {
   "cell_type": "code",
   "execution_count": 5,
   "id": "172e764d",
   "metadata": {},
   "outputs": [
    {
     "data": {
      "text/plain": [
       "[]"
      ]
     },
     "execution_count": 5,
     "metadata": {},
     "output_type": "execute_result"
    },
    {
     "data": {
      "image/png": "[encoded data removed]",
      "text/plain": [
       "<Figure size 432x288 with 1 Axes>"
      ]
     },
     "metadata": {
      "needs_background": "light"
     },
     "output_type": "display_data"
    }
   ],
   "source": [
    "plt.plot(data['Time'],data['gy'])\n",
    "plt.plot()"
   ]
  },
  {
   "cell_type": "code",
   "execution_count": 6,
   "id": "75f5046d",
   "metadata": {},
   "outputs": [
    {
     "data": {
      "text/plain": [
       "[]"
      ]
     },
     "execution_count": 6,
     "metadata": {},
     "output_type": "execute_result"
    },
    {
     "data": {
      "image/png": "[encoded data removed]",
      "text/plain": [
       "<Figure size 432x288 with 1 Axes>"
      ]
     },
     "metadata": {
      "needs_background": "light"
     },
     "output_type": "display_data"
    }
   ],
   "source": [
    "plt.plot(data['Time'],data['gz'])\n",
    "plt.plot()"
   ]
  },
  {
   "cell_type": "code",
   "execution_count": 7,
   "id": "ff174845",
   "metadata": {},
   "outputs": [
    {
     "data": {
      "text/plain": [
       "[]"
      ]
     },
     "execution_count": 7,
     "metadata": {},
     "output_type": "execute_result"
    },
    {
     "data": {
      "image/png": "[encoded data removed]",
      "text/plain": [
       "<Figure size 432x288 with 1 Axes>"
      ]
     },
     "metadata": {
      "needs_background": "light"
     },
     "output_type": "display_data"
    }
   ],
   "source": [
    "plt.plot(data['Time'],data['gyx'])\n",
    "plt.plot()"
   ]
  },
  {
   "cell_type": "code",
   "execution_count": 8,
   "id": "54dfecdd",
   "metadata": {},
   "outputs": [
    {
     "data": {
      "text/plain": [
       "[]"
      ]
     },
     "execution_count": 8,
     "metadata": {},
     "output_type": "execute_result"
    },
    {
     "data": {
      "image/png": "[encoded data removed]",
      "text/plain": [
       "<Figure size 432x288 with 1 Axes>"
      ]
     },
     "metadata": {
      "needs_background": "light"
     },
     "output_type": "display_data"
    }
   ],
   "source": [
    "plt.plot(data['Time'],data['gyy'])\n",
    "plt.plot()"
   ]
  },
  {
   "cell_type": "code",
   "execution_count": 9,
   "id": "a8776268",
   "metadata": {},
   "outputs": [
    {
     "data": {
      "text/plain": [
       "[]"
      ]
     },
     "execution_count": 9,
     "metadata": {},
     "output_type": "execute_result"
    },
    {
     "data": {
      "image/png": "[encoded data removed]",
      "text/plain": [
       "<Figure size 432x288 with 1 Axes>"
      ]
     },
     "metadata": {
      "needs_background": "light"
     },
     "output_type": "display_data"
    }
   ],
   "source": [
    "plt.plot(data['Time'],data['gyz'])\n",
    "plt.plot()"
   ]
  },
  {
   "cell_type": "code",
   "execution_count": 10,
   "id": "9ab5b32a",
   "metadata": {},
   "outputs": [],
   "source": [
    "import statistics\n",
    "from statistics import variance\n",
    "from fractions import Fraction as fr\n"
   ]
  },
  {
   "cell_type": "code",
   "execution_count": 11,
   "id": "50d7834a",
   "metadata": {},
   "outputs": [
    {
     "name": "stdout",
     "output_type": "stream",
     "text": [
      "0.32001993293570874\n",
      "4.49637248373104\n"
     ]
    }
   ],
   "source": [
    "m=(np.var(data['gx'])+np.var(data['gy'])+np.var(data['gz']))\n",
    "print(m)\n",
    "n=(np.var(data['gyx'])+np.var(data['gyy'])+np.var(data['gyz']))\n",
    "print(n)"
   ]
  },
  {
   "cell_type": "code",
   "execution_count": 12,
   "id": "cb51d3e3",
   "metadata": {},
   "outputs": [
    {
     "name": "stdout",
     "output_type": "stream",
     "text": [
      "0       1.097293\n",
      "1       1.067491\n",
      "2       1.046862\n",
      "3       1.058262\n",
      "4       1.075232\n",
      "          ...   \n",
      "2995    0.996627\n",
      "2996    0.999135\n",
      "2997    1.001837\n",
      "2998    0.998306\n",
      "2999    0.998245\n",
      "Name: Acceleration, Length: 3000, dtype: float64\n"
     ]
    },
    {
     "data": {
      "text/plain": [
       "[]"
      ]
     },
     "execution_count": 12,
     "metadata": {},
     "output_type": "execute_result"
    },
    {
     "data": {
      "image/png": "[encoded data removed]",
      "text/plain": [
       "<Figure size 432x288 with 1 Axes>"
      ]
     },
     "metadata": {
      "needs_background": "light"
     },
     "output_type": "display_data"
    }
   ],
   "source": [
    "data['Acceleration']= pow(pow((data['gx']),2)+pow((data['gy']),2)+pow((data['gz']),2),0.5)\n",
    "print(data['Acceleration'])\n",
    "plt.plot(data['Time'],data['Acceleration'])\n",
    "plt.plot()\n"
   ]
  },
  {
   "cell_type": "code",
   "execution_count": null,
   "id": "e733f392",
   "metadata": {},
   "outputs": [],
   "source": []
  },
  {
   "cell_type": "code",
   "execution_count": 13,
   "id": "320884a1",
   "metadata": {},
   "outputs": [
    {
     "name": "stdout",
     "output_type": "stream",
     "text": [
      "0       1.163452\n",
      "1       1.018291\n",
      "2       0.893092\n",
      "3       0.781483\n",
      "4       0.630566\n",
      "          ...   \n",
      "2995    0.056972\n",
      "2996    0.060645\n",
      "2997    0.068069\n",
      "2998    0.072267\n",
      "2999    0.075233\n",
      "Name: Gyroscope, Length: 3000, dtype: float64\n",
      "2.4880952291727687\n"
     ]
    },
    {
     "data": {
      "image/png": "[encoded data removed]",
      "text/plain": [
       "<Figure size 432x288 with 1 Axes>"
      ]
     },
     "metadata": {
      "needs_background": "light"
     },
     "output_type": "display_data"
    }
   ],
   "source": [
    "data['Gyroscope']= pow(pow((data['gyx']),2)+pow((data['gyy']),2)+pow((data['gyz']),2),0.5)\n",
    "print(data['Gyroscope'])\n",
    "plt.plot(data['Time'],data['Gyroscope'],data['Time'],data['Acceleration'])\n",
    "print(np.var(data['Gyroscope']))"
   ]
  },
  {
   "cell_type": "code",
   "execution_count": 14,
   "id": "50ae509f",
   "metadata": {},
   "outputs": [
    {
     "name": "stdout",
     "output_type": "stream",
     "text": [
      "1.5021999521389124\n",
      "(3, 3000)\n",
      "[[ 1.02721037 -0.0819306  -0.34828148]\n",
      " [-0.0819306   2.89953838  0.85305329]\n",
      " [-0.34828148  0.85305329  0.57112302]]\n",
      "1.026867966698806\n",
      "2.898571870948559\n",
      "0.5709326460836724\n",
      "8.622712497680281\n",
      "-3.481653866314542\n",
      "8.52768942668043\n"
     ]
    }
   ],
   "source": [
    "arr1= np.array([data['gyx'],data['gyy'],data['gyz']])\n",
    "arr2=np.array([data['gyx']])\n",
    "arr3=np.array([data['gyy']])\n",
    "arr4=np.array([data['gyz']])\n",
    "print(np.var(arr1))\n",
    "print(arr1.shape)\n",
    "print(np.cov(arr1))\n",
    "mean1= np.mean(data['gyx'])\n",
    "mean2= np.mean(data['gyy'])\n",
    "mean3= np.mean(data['gyz'])\n",
    "print(np.var(arr2))\n",
    "print(np.var(arr3))\n",
    "print(np.var(arr4))\n",
    "covxy=(sum(np.absolute((data['gyx']-mean1)*(data['gyy']-mean2))))/300\n",
    "print(covxy)\n",
    "covxz=(sum((data['gyx']-mean1)*(data['gyz']-mean3)))/300\n",
    "print(covxz)\n",
    "covyz=(sum((data['gyy']-mean2)*(data['gyz']-mean3)))/300\n",
    "print(covyz)\n",
    "\n",
    "\n",
    "\n"
   ]
  },
  {
   "cell_type": "code",
   "execution_count": 15,
   "id": "470de783",
   "metadata": {},
   "outputs": [
    {
     "name": "stdout",
     "output_type": "stream",
     "text": [
      "Index(['Time', 'gx', 'gy', 'gz', 'gyx', 'gyy', 'gyz', 'thetax', 'thetay',\n",
      "       'thetaz', 'vx', 'vy', 'vz', 'Acceleration', 'Gyroscope'],\n",
      "      dtype='object')\n",
      "Index(['Time', 'gx', 'gy', 'gz', 'gyx', 'gyy', 'gyz', 'thetax', 'thetay',\n",
      "       'thetaz', 'vx', 'vy', 'vz', 'acc', 'gyro'],\n",
      "      dtype='object')\n"
     ]
    }
   ],
   "source": [
    "print(data.columns)\n",
    "data.columns=['Time','gx','gy','gz','gyx','gyy','gyz','thetax','thetay','thetaz','vx','vy','vz','acc','gyro']\n",
    "print(data.columns)"
   ]
  },
  {
   "cell_type": "code",
   "execution_count": 16,
   "id": "d8461394",
   "metadata": {},
   "outputs": [
    {
     "name": "stdout",
     "output_type": "stream",
     "text": [
      "[[ 1.          0.20185889 -0.09046866  0.07444351  0.08111768 -0.04664122\n",
      "   0.07588301  0.07499066 -0.05729847  0.98531984  0.19316985 -0.08050151]\n",
      " [ 0.20185889  1.         -0.35099289 -0.05354889  0.03885859 -0.0538984\n",
      "  -0.04463383  0.03286264 -0.05343858  0.17146123  0.98430991 -0.3454004 ]\n",
      " [-0.09046866 -0.35099289  1.         -0.13090702 -0.07902316  0.08431389\n",
      "  -0.13479859 -0.06942596  0.08638434 -0.06617001 -0.33133512  0.99640605]\n",
      " [ 0.07444351 -0.05354889 -0.13090702  1.         -0.04747358 -0.45471141\n",
      "   0.99824164 -0.047761   -0.45055761  0.08288583 -0.05212981 -0.11873416]\n",
      " [ 0.08111768  0.03885859 -0.07902316 -0.04747358  1.          0.66289829\n",
      "  -0.04673317  0.99975874  0.6486841   0.07655957  0.05028234 -0.10613849]\n",
      " [-0.04664122 -0.0538984   0.08431389 -0.45471141  0.66289829  1.\n",
      "  -0.45388583  0.66405439  0.99631066 -0.04933165 -0.05863761  0.06584165]\n",
      " [ 0.07588301 -0.04463383 -0.13479859  0.99824164 -0.04673317 -0.45388583\n",
      "   1.         -0.0467566  -0.45207795  0.08805706 -0.04438909 -0.12281745]\n",
      " [ 0.07499066  0.03286264 -0.06942596 -0.047761    0.99975874  0.66405439\n",
      "  -0.0467566   1.          0.64961148  0.07172362  0.04495329 -0.0962325 ]\n",
      " [-0.05729847 -0.05343858  0.08638434 -0.45055761  0.6486841   0.99631066\n",
      "  -0.45207795  0.64961148  1.         -0.06584323 -0.06258596  0.06870529]\n",
      " [ 0.98531984  0.17146123 -0.06617001  0.08288583  0.07655957 -0.04933165\n",
      "   0.08805706  0.07172362 -0.06584323  1.          0.1760286  -0.05517547]\n",
      " [ 0.19316985  0.98430991 -0.33133512 -0.05212981  0.05028234 -0.05863761\n",
      "  -0.04438909  0.04495329 -0.06258596  0.1760286   1.         -0.32718944]\n",
      " [-0.08050151 -0.3454004   0.99640605 -0.11873416 -0.10613849  0.06584165\n",
      "  -0.12281745 -0.0962325   0.06870529 -0.05517547 -0.32718944  1.        ]]\n"
     ]
    }
   ],
   "source": [
    "arr5=np.array([data['gx'],data['gy'],data['gz'],data['gyx'],data['gyy'],data['gyz'],data['thetax'],data['thetay'],data['thetaz'],data['vx'],data['vy'],data['vz']])\n",
    "arr6=np.corrcoef(arr5)\n",
    "arr6.shape\n",
    "print(arr6)\n",
    "data['Time']=pd.to_datetime(data['Time'])\n"
   ]
  },
  {
   "cell_type": "code",
   "execution_count": 17,
   "id": "1e9e11f1",
   "metadata": {},
   "outputs": [
    {
     "name": "stdout",
     "output_type": "stream",
     "text": [
      "0.20185888761918477\n"
     ]
    }
   ],
   "source": [
    "mean4=np.mean(data['gx'])\n",
    "mean5=np.mean(data['gy'])\n",
    "corrxy= sum((data['gx']-mean4)*(data['gy']-mean5))/(pow(sum(pow((data['gx']-mean4),2))*sum(pow((data['gy']-mean5),2)),0.5))\n",
    "print(corrxy)\n",
    "data['v']=data['vx']*data['vx']+data['vy']*data['vy']+data['vz']*data['vz']"
   ]
  },
  {
   "cell_type": "code",
   "execution_count": 18,
   "id": "122ed8d6",
   "metadata": {},
   "outputs": [
    {
     "data": {
      "text/plain": [
       "[<matplotlib.lines.Line2D at 0x245c4b0f460>,\n",
       " <matplotlib.lines.Line2D at 0x245c4ad89d0>]"
      ]
     },
     "execution_count": 18,
     "metadata": {},
     "output_type": "execute_result"
    },
    {
     "data": {
      "image/png": "[encoded data removed]",
      "text/plain": [
       "<Figure size 432x288 with 1 Axes>"
      ]
     },
     "metadata": {
      "needs_background": "light"
     },
     "output_type": "display_data"
    }
   ],
   "source": [
    "plt.plot(data['Time'],data['gx'],data['Time'],data['v'])"
   ]
  },
  {
   "cell_type": "code",
   "execution_count": 19,
   "id": "1cbdb966",
   "metadata": {},
   "outputs": [
    {
     "data": {
      "text/plain": [
       "[<matplotlib.lines.Line2D at 0x245c5cc0fa0>,\n",
       " <matplotlib.lines.Line2D at 0x245c5cca130>]"
      ]
     },
     "execution_count": 19,
     "metadata": {},
     "output_type": "execute_result"
    },
    {
     "data": {
      "image/png": "[encoded data removed]",
      "text/plain": [
       "<Figure size 432x288 with 1 Axes>"
      ]
     },
     "metadata": {
      "needs_background": "light"
     },
     "output_type": "display_data"
    }
   ],
   "source": [
    "mean=(data['v'][0]+data['v'][1]+data['v'][2])/3\n",
    "arr_vthresh= np.array(mean)\n",
    "i=2;\n",
    "while(i<=2998):\n",
    "    mean=(data['v'][i-1]+data['v'][i]+data['v'][i+1])/3\n",
    "    arr_vthresh=np.append(arr_vthresh,mean)\n",
    "    i=i+1\n",
    "arr_vthresh=np.append(arr_vthresh,mean)\n",
    "arr_vthresh=np.append(arr_vthresh,mean)\n",
    "data['vmean']=arr_vthresh\n",
    "plt.plot(data['Time'], data['gx'], data['Time'],abs(data['vmean']-data['v']))"
   ]
  },
  {
   "cell_type": "code",
   "execution_count": 20,
   "id": "f08eef1a",
   "metadata": {
    "scrolled": false
   },
   "outputs": [],
   "source": [
    "\n",
    "# #data['mark_stance']= ((data['vx'] >= 0.096) & (data['vx']<= 0.115)& (data['vz']>=-0.02) & (data['vz']<=0.02) & (data['vy']>=-0.02) & (data['vy']<=0.02) & (data['thetax']>=-0.05) & (data['thetax']<=0.05))\n",
    "# plt.plot(data['Time'],data['gx'],data['Time'],data['mark_stance5'] )\n",
    "# from sklearn.metrics import accuracy_score\n",
    "# print(accuracy_score(data['mark_stance5'], data['mark_stance1']))\n",
    "# print(accuracy_score(data['mark_stance5'], data['mark_stance2']))\n",
    "# print(accuracy_score(data['mark_stance5'], data['mark_stance3']))\n",
    "# print(accuracy_score(data['mark_stance5'], data['mark_stance4']))"
   ]
  },
  {
   "cell_type": "code",
   "execution_count": 21,
   "id": "212ee4ff",
   "metadata": {},
   "outputs": [
    {
     "name": "stdout",
     "output_type": "stream",
     "text": [
      "0.009089220780879207\n"
     ]
    },
    {
     "data": {
      "text/plain": [
       "[<matplotlib.lines.Line2D at 0x245c6cd9b20>,\n",
       " <matplotlib.lines.Line2D at 0x245c6d002b0>]"
      ]
     },
     "execution_count": 21,
     "metadata": {},
     "output_type": "execute_result"
    },
    {
     "data": {
      "image/png": "[encoded data removed]",
      "text/plain": [
       "<Figure size 432x288 with 1 Axes>"
      ]
     },
     "metadata": {
      "needs_background": "light"
     },
     "output_type": "display_data"
    }
   ],
   "source": [
    "mean= data['vx'][0:10].sum()\n",
    "mean=mean/10\n",
    "\n",
    "mean2= data['vx'][344:354].sum()\n",
    "mean2=mean2/10\n",
    "\n",
    "mean=(mean+mean2)/2\n",
    "print(mean)\n",
    "i=1\n",
    "arr= np.array([sum(pow((data['vx'][0:10]-mean),2))/10])\n",
    "while(i<=2999):\n",
    "    var1= sum(pow((data['vx'][i:(i+10)]-mean),2))/10\n",
    "    i+=1\n",
    "    arr=np.append(arr,var1)\n",
    "\n",
    "np.shape(arr)\n",
    "data['Var']=arr\n",
    "plt.plot(data['Time'],data['gx'],data['Time'],data['Var'])\n",
    "    "
   ]
  },
  {
   "cell_type": "code",
   "execution_count": 22,
   "id": "fb943865",
   "metadata": {
    "scrolled": false
   },
   "outputs": [],
   "source": [
    "#data['acc_thresh']=((data['acc'] >= 0.97895) & (data['acc']<= 1.033))\n",
    "#plt.plot(data['Time'],data['mark_stance5'],data['Time'],data['acc_thresh'])"
   ]
  },
  {
   "cell_type": "code",
   "execution_count": 23,
   "id": "33fd6626",
   "metadata": {},
   "outputs": [],
   "source": [
    "from sklearn.metrics import accuracy_score\n",
    "#accuracy_score(data['mark_stance'], data['acc_thresh'])"
   ]
  },
  {
   "cell_type": "code",
   "execution_count": 24,
   "id": "3544df7c",
   "metadata": {
    "scrolled": false
   },
   "outputs": [],
   "source": [
    "# arr_accthresh= np.array([data['acc'][0]])\n",
    "# i=1;\n",
    "# while(i<=2997):\n",
    "#     mean=(data['acc'][i-1]+data['acc'][i]+data['acc'][i+1])/3\n",
    "#     arr_accthresh=np.append(arr_accthresh,mean)\n",
    "#     i=i+1\n",
    "# arr_accthresh=np.append(arr_accthresh,data['acc'][354])\n",
    "# data['accmean']=arr_accthresh\n",
    "# plt.plot(data['Time'], data['accmean'], data['Time'],data['mark_stance5'])\n",
    "    "
   ]
  },
  {
   "cell_type": "code",
   "execution_count": 25,
   "id": "eb278deb",
   "metadata": {},
   "outputs": [],
   "source": [
    "#data['acc_thresh2']=((data['accmean'] >= 0.9876) & (data['accmean']<= 1.04))\n"
   ]
  },
  {
   "cell_type": "code",
   "execution_count": 26,
   "id": "ba9850df",
   "metadata": {},
   "outputs": [],
   "source": [
    "#accuracy_score(data['mark_stance'], data['acc_thresh2'])"
   ]
  },
  {
   "cell_type": "code",
   "execution_count": 27,
   "id": "45885078",
   "metadata": {},
   "outputs": [],
   "source": [
    "# plt.plot(data['Time'], data['mark_stance'], data['Time'], data['accmean'])\n",
    "# plt.grid(which='major', color='#DDDDDD', linewidth=0.8)\n",
    "# # Show the minor grid as well. Style it in very light gray as a thin,\n",
    "# # dotted line.\n",
    "# plt.grid(which='minor', color='#CCCCCC', linestyle=':', linewidth=0.25)\n",
    "# # Make the minor ticks and gridlines show.\n",
    "# plt.minorticks_on()"
   ]
  },
  {
   "cell_type": "code",
   "execution_count": 28,
   "id": "ce75e1f1",
   "metadata": {
    "scrolled": false
   },
   "outputs": [
    {
     "name": "stdout",
     "output_type": "stream",
     "text": [
      "3.054466826258739e-07\n"
     ]
    },
    {
     "name": "stderr",
     "output_type": "stream",
     "text": [
      "<ipython-input-28-2d5dd28078af>:31: SettingWithCopyWarning: \n",
      "A value is trying to be set on a copy of a slice from a DataFrame\n",
      "\n",
      "See the caveats in the documentation: https://pandas.pydata.org/pandas-docs/stable/user_guide/indexing.html#returning-a-view-versus-a-copy\n",
      "  data['mark_stance1'][k]=0\n",
      "<ipython-input-28-2d5dd28078af>:50: SettingWithCopyWarning: \n",
      "A value is trying to be set on a copy of a slice from a DataFrame\n",
      "\n",
      "See the caveats in the documentation: https://pandas.pydata.org/pandas-docs/stable/user_guide/indexing.html#returning-a-view-versus-a-copy\n",
      "  data['mark_stance1'][k]=1\n"
     ]
    },
    {
     "data": {
      "text/plain": [
       "[<matplotlib.lines.Line2D at 0x245c7fb55e0>,\n",
       " <matplotlib.lines.Line2D at 0x245c7fc5d30>]"
      ]
     },
     "execution_count": 28,
     "metadata": {},
     "output_type": "execute_result"
    },
    {
     "data": {
      "image/png": "[encoded data removed]",
      "text/plain": [
       "<Figure size 432x288 with 1 Axes>"
      ]
     },
     "metadata": {
      "needs_background": "light"
     },
     "output_type": "display_data"
    }
   ],
   "source": [
    "\n",
    "import math\n",
    "sigma2= 3.054466826258739e-07\n",
    "print(sigma2)\n",
    "x=math.log10((pow(data['acc'][0]-1,2)+pow(data['acc'][1]-1,2)+pow(data['acc'][2]-1,2)+pow(data['acc'][3]-1,2)+pow(data['acc'][4]-1,2))/(5*sigma2))\n",
    "arr_tm = np.array(x)\n",
    "arr_tm = np.array(x)\n",
    "i=2;\n",
    "while(i<=2997):\n",
    "    x=math.log10((pow(data['acc'][i-1]-1,2)+pow(data['acc'][i-2]-1,2)+pow(data['acc'][i+2]-1,2)+pow(data['acc'][i+1]-1,2)+pow(data['acc'][i]-1,2))/(5*sigma2))\n",
    "    arr_tm=np.append(arr_tm,x)\n",
    "    i+=1\n",
    "arr_tm=np.append(arr_tm,x)\n",
    "arr_tm=np.append(arr_tm,x)\n",
    "arr_tm=np.append(arr_tm,x)\n",
    "data['tm1']=arr_tm\n",
    "\n",
    "data['mark_stance1']=(data['tm1']<5.5)\n",
    "l=0\n",
    "i=0\n",
    "j=0\n",
    "while(i<=2999):\n",
    "    k=j\n",
    "    l=0\n",
    "    while(j<=2999):\n",
    "        if data['mark_stance1'][j]==1 :\n",
    "            l+=1\n",
    "            j+=1\n",
    "        else :\n",
    "            if(l<30):\n",
    "                while(k<=j):\n",
    "                    data['mark_stance1'][k]=0\n",
    "                    k+=1\n",
    "            j+=1\n",
    "            k=j\n",
    "            l=0\n",
    "    i=j      \n",
    "l=0\n",
    "i=0\n",
    "j=0\n",
    "while(i<=2999):\n",
    "    k=j\n",
    "    l=0\n",
    "    while(j<=2999):\n",
    "        if data['mark_stance1'][j]==0 :\n",
    "            l+=1\n",
    "            j+=1\n",
    "        else :\n",
    "            if(l<30):\n",
    "                while(k<=j):\n",
    "                    data['mark_stance1'][k]=1\n",
    "                    k+=1\n",
    "            j+=1\n",
    "            k=j\n",
    "            l=0\n",
    "    i=j \n",
    "plt.plot(data['Time'],data['gx'],data['Time'],data['mark_stance1'])\n",
    "\n",
    "    \n",
    "    "
   ]
  },
  {
   "cell_type": "code",
   "execution_count": 39,
   "id": "45e5e58f",
   "metadata": {},
   "outputs": [
    {
     "name": "stderr",
     "output_type": "stream",
     "text": [
      "<ipython-input-39-5077c63b6627>:28: SettingWithCopyWarning: \n",
      "A value is trying to be set on a copy of a slice from a DataFrame\n",
      "\n",
      "See the caveats in the documentation: https://pandas.pydata.org/pandas-docs/stable/user_guide/indexing.html#returning-a-view-versus-a-copy\n",
      "  data['mark_stance2'][k]=0\n",
      "<ipython-input-39-5077c63b6627>:47: SettingWithCopyWarning: \n",
      "A value is trying to be set on a copy of a slice from a DataFrame\n",
      "\n",
      "See the caveats in the documentation: https://pandas.pydata.org/pandas-docs/stable/user_guide/indexing.html#returning-a-view-versus-a-copy\n",
      "  data['mark_stance2'][k]=1\n"
     ]
    },
    {
     "data": {
      "text/plain": [
       "[<matplotlib.lines.Line2D at 0x2499b45e6d0>,\n",
       " <matplotlib.lines.Line2D at 0x2499b47fe20>]"
      ]
     },
     "execution_count": 39,
     "metadata": {},
     "output_type": "execute_result"
    },
    {
     "data": {
      "image/png": "[encoded data removed]",
      "text/plain": [
       "<Figure size 432x288 with 1 Axes>"
      ]
     },
     "metadata": {
      "needs_background": "light"
     },
     "output_type": "display_data"
    }
   ],
   "source": [
    "\n",
    "x=(pow(data['gyro'][0],2)+pow(data['gyro'][1],2)+pow(data['gyro'][2],2)+pow(data['gyro'][3],2)+pow(data['gyro'][4],2))/(5)\n",
    "arr_tm2 = np.array(x)\n",
    "arr_tm2 = np.array(x)\n",
    "i=2;\n",
    "while(i<=2997):\n",
    "    x=(pow(data['gyro'][i-2],2)+pow(data['gyro'][i-1],2)+pow(data['gyro'][i],2)+pow(data['gyro'][i+1],2)+pow(data['gyro'][i+2],2))/(5)\n",
    "    arr_tm2=np.append(arr_tm2,x)\n",
    "    i+=1\n",
    "arr_tm2=np.append(arr_tm2,x)\n",
    "arr_tm2=np.append(arr_tm2,x)\n",
    "arr_tm2=np.append(arr_tm2,x)\n",
    "data['tm2']=arr_tm2\n",
    "\n",
    "data['mark_stance2']=(data['tm2']<0.7)\n",
    "l=0\n",
    "i=0\n",
    "j=0\n",
    "while(i<=2999):\n",
    "    k=j\n",
    "    l=0\n",
    "    while(j<=2999):\n",
    "        if data['mark_stance2'][j]==1 :\n",
    "            l+=1\n",
    "            j+=1\n",
    "        else :\n",
    "            if(l<20):\n",
    "                while(k<=j):\n",
    "                    data['mark_stance2'][k]=0\n",
    "                    k+=1\n",
    "            j+=1\n",
    "            k=j\n",
    "            l=0\n",
    "    i=j      \n",
    "l=0\n",
    "i=0\n",
    "j=0\n",
    "while(i<=2999):\n",
    "    k=j\n",
    "    l=0\n",
    "    while(j<=2999):\n",
    "        if data['mark_stance2'][j]==0 :\n",
    "            l+=1\n",
    "            j+=1\n",
    "        else :\n",
    "            if(l<20):\n",
    "                while(k<=j):\n",
    "                    data['mark_stance2'][k]=1\n",
    "                    k+=1\n",
    "            j+=1\n",
    "            k=j\n",
    "            l=0\n",
    "    i=j \n",
    "plt.plot(data['Time'],data['gx'],data['Time'],data['mark_stance2'])\n"
   ]
  },
  {
   "cell_type": "code",
   "execution_count": 41,
   "id": "d9b9d643",
   "metadata": {},
   "outputs": [
    {
     "name": "stderr",
     "output_type": "stream",
     "text": [
      "<ipython-input-41-6c616cffbf00>:33: SettingWithCopyWarning: \n",
      "A value is trying to be set on a copy of a slice from a DataFrame\n",
      "\n",
      "See the caveats in the documentation: https://pandas.pydata.org/pandas-docs/stable/user_guide/indexing.html#returning-a-view-versus-a-copy\n",
      "  data['mark_stance3'][k]=0\n",
      "<ipython-input-41-6c616cffbf00>:52: SettingWithCopyWarning: \n",
      "A value is trying to be set on a copy of a slice from a DataFrame\n",
      "\n",
      "See the caveats in the documentation: https://pandas.pydata.org/pandas-docs/stable/user_guide/indexing.html#returning-a-view-versus-a-copy\n",
      "  data['mark_stance3'][k]=1\n"
     ]
    },
    {
     "data": {
      "text/plain": [
       "[<matplotlib.lines.Line2D at 0x2499b528550>,\n",
       " <matplotlib.lines.Line2D at 0x2499b54bcd0>]"
      ]
     },
     "execution_count": 41,
     "metadata": {},
     "output_type": "execute_result"
    },
    {
     "data": {
      "image/png": "[encoded data removed]",
      "text/plain": [
       "<Figure size 432x288 with 1 Axes>"
      ]
     },
     "metadata": {
      "needs_background": "light"
     },
     "output_type": "display_data"
    }
   ],
   "source": [
    "\n",
    "meax2= np.mean(data['gx'][0:4])\n",
    "meay2= np.mean(data['gy'][0:4])\n",
    "meaz2= np.mean(data['gz'][0:4])\n",
    "x=(pow(pow(data['gx'][0]-meax2,2)+pow(data['gy'][0]-meay2,2)+pow(data['gz'][0]-meaz2,2),0.5)+pow(pow(data['gx'][1]-meax2,2)+pow(data['gy'][1]-meay2,2)+pow(data['gz'][1]-meaz2,2),0.5)+pow(pow(data['gx'][2]-meax2,2)+pow(data['gy'][2]-meay2,2)+pow(data['gz'][2]-meaz2,2),0.5)+pow(pow(data['gx'][3]-meax2,2)+pow(data['gy'][3]-meay2,2)+pow(data['gz'][3]-meaz2,2),0.5)+pow(pow(data['gx'][4]-meax2,2)+pow(data['gy'][4]-meay2,2)+pow(data['gz'][4]-meaz2,2),0.5))/(5)\n",
    "arr_tm3 = np.array(x)\n",
    "arr_tm3=np.append(arr_tm3,x)\n",
    "i=2;\n",
    "while(i<=2997):\n",
    "    meax2= np.mean(data['gx'][i:i+4])\n",
    "    meay2= np.mean(data['gy'][i:i+4])\n",
    "    meaz2= np.mean(data['gz'][i:i+4])\n",
    "    x=(pow(data['gyro'][i-2],2)+pow(data['gyro'][i-1],2)+pow(data['gyro'][i],2)+pow(data['gyro'][i+1],2)+pow(data['gyro'][i+2],2))/(5)\n",
    "    arr_tm3=np.append(arr_tm3,x)\n",
    "    i+=1\n",
    "arr_tm3=np.append(arr_tm3,x)\n",
    "arr_tm3=np.append(arr_tm3,x)\n",
    "\n",
    "data['tm3']=arr_tm3\n",
    "data['mark_stance3']=(data['tm3']<0.6)\n",
    "l=0\n",
    "i=0\n",
    "j=0\n",
    "while(i<=2999):\n",
    "    k=j\n",
    "    l=0\n",
    "    while(j<=2999):\n",
    "        if data['mark_stance3'][j]==1 :\n",
    "            l+=1\n",
    "            j+=1\n",
    "        else :\n",
    "            if(l<20):\n",
    "                while(k<=j):\n",
    "                    data['mark_stance3'][k]=0\n",
    "                    k+=1\n",
    "            j+=1\n",
    "            k=j\n",
    "            l=0\n",
    "    i=j      \n",
    "l=0\n",
    "i=0\n",
    "j=0\n",
    "while(i<=2999):\n",
    "    k=j\n",
    "    l=0\n",
    "    while(j<=2999):\n",
    "        if data['mark_stance3'][j]==0 :\n",
    "            l+=1\n",
    "            j+=1\n",
    "        else :\n",
    "            if(l<20):\n",
    "                while(k<=j):\n",
    "                    data['mark_stance3'][k]=1\n",
    "                    k+=1\n",
    "            j+=1\n",
    "            k=j\n",
    "            l=0\n",
    "    i=j \n",
    "plt.plot(data['Time'],data['gx'],data['Time'],data['mark_stance3'])"
   ]
  },
  {
   "cell_type": "code",
   "execution_count": 44,
   "id": "e42d92e4",
   "metadata": {},
   "outputs": [
    {
     "name": "stderr",
     "output_type": "stream",
     "text": [
      "<ipython-input-44-7179bad134f0>:44: SettingWithCopyWarning: \n",
      "A value is trying to be set on a copy of a slice from a DataFrame\n",
      "\n",
      "See the caveats in the documentation: https://pandas.pydata.org/pandas-docs/stable/user_guide/indexing.html#returning-a-view-versus-a-copy\n",
      "  data['mark_stance4'][k]=0\n",
      "<ipython-input-44-7179bad134f0>:63: SettingWithCopyWarning: \n",
      "A value is trying to be set on a copy of a slice from a DataFrame\n",
      "\n",
      "See the caveats in the documentation: https://pandas.pydata.org/pandas-docs/stable/user_guide/indexing.html#returning-a-view-versus-a-copy\n",
      "  data['mark_stance4'][k]=1\n"
     ]
    },
    {
     "data": {
      "text/plain": [
       "[<matplotlib.lines.Line2D at 0x2499b656a30>,\n",
       " <matplotlib.lines.Line2D at 0x2499b6961c0>]"
      ]
     },
     "execution_count": 44,
     "metadata": {},
     "output_type": "execute_result"
    },
    {
     "data": {
      "image/png": "[encoded data removed]",
      "text/plain": [
       "<Figure size 432x288 with 1 Axes>"
      ]
     },
     "metadata": {
      "needs_background": "light"
     },
     "output_type": "display_data"
    }
   ],
   "source": [
    "sigmaa=3.054466826258739e-07\n",
    "sigmaw=4.374101426993713e-05\n",
    "meax2= np.mean(data['gx'][0:4])\n",
    "meay2= np.mean(data['gy'][0:4])\n",
    "meaz2= np.mean(data['gz'][0:4])\n",
    "mea2= pow((meax2*meax2)+(meay2*meay2)+(meaz2*meaz2),0.5)\n",
    "x=(pow(pow(data['gx'][0]-(meax2/mea2),2)+pow(data['gy'][0]-(meay2/mea2),2)+pow(data['gz'][0]-(meaz2/mea2),2),0.5)+pow(pow(data['gx'][1]-(meax2/mea2),2)+pow(data['gy'][1]-(meay2/mea2),2)+pow(data['gz'][1]-(meaz2/mea2),2),0.5)+pow(pow(data['gx'][2]-(meax2/mea2),2)+pow(data['gy'][2]-(meay2/mea2),2)+pow(data['gz'][2]-(meaz2/mea2),2),0.5)+pow(pow(data['gx'][3]-(meax2/mea2),2)+pow(data['gy'][3]-(meay2/mea2),2)+pow(data['gz'][3]-(meaz2/mea2),2),0.5)+pow(pow(data['gx'][4]-(meax2/mea2),2)+pow(data['gy'][4]-(meay2/mea2),2)+pow(data['gz'][4]-(meaz2/mea2),2),0.5)+pow(pow(data['gx'][5]-(meax2/mea2),2)+pow(data['gy'][5]-(meay2/mea2),2)+pow(data['gz'][5]-(meaz2/mea2),2),0.5)+pow(pow(data['gx'][6]-(meax2/mea2),2)+pow(data['gz'][6]-(meaz2/mea2),2)+pow(data['gy'][6]-(meay2/mea2),2),0.5))/(7*sigmaa)\n",
    "y=(pow(data['gyro'][0],2)+pow(data['gyro'][1],2)+pow(data['gyro'][2],2)+pow(data['gyro'][3],2)+pow(data['gyro'][4],2)+pow(data['gyro'][5],2)++pow(data['gyro'][6],2))/(7*sigmaw)\n",
    "z=math.log10(x+y)\n",
    "arr_tm4 = np.array(z)\n",
    "arr_tm4=np.append(arr_tm4,z)\n",
    "arr_tm4=np.append(arr_tm4,z)\n",
    "i=4;\n",
    "while(i<=2996):\n",
    "    meax2= np.mean(data['gx'][i:i+6])\n",
    "    meay2= np.mean(data['gy'][i:i+6])\n",
    "    meaz2= np.mean(data['gz'][i:i+6])\n",
    "    mea2= pow((meax2*meax2)+(meay2*meay2)+(meaz2*meaz2),0.5)\n",
    "    x=(pow(pow(data['gx'][i-3]-meax2/mea2,2)+pow(data['gy'][i-3]-meay2/mea2,2)+pow(data['gz'][i-3]-meaz2/mea2,2),0.5)+pow(pow(data['gx'][i-2]-meax2/mea2,2)+pow(data['gy'][i-2]-meay2/mea2,2)+pow(data['gz'][i-2]-meaz2/mea2,2),0.5)+pow(pow(data['gx'][i-1]-meax2/mea2,2)+pow(data['gy'][i-1]-meay2/mea2,2)+pow(data['gz'][i-1]-meaz2/mea2,2),0.5)+pow(pow(data['gx'][i]-meax2/mea2,2)+pow(data['gy'][i]-meay2/mea2,2)+pow(data['gz'][i]-meaz2/mea2,2),0.5)+pow(pow(data['gx'][i+1]-meax2/mea2,2)+pow(data['gy'][i+1]-meay2/mea2,2)+pow(data['gz'][i+1]-meaz2/mea2,2),0.5)+pow(pow(data['gx'][i+2]-meax2/mea2,2)+pow(data['gy'][i+2]-meay2/mea2,2)+pow(data['gz'][i+2]-meaz2/mea2,2),0.5)+pow(pow(data['gx'][i+3]-meax2/mea2,2)+pow(data['gy'][i+3]-meay2/mea2,2)+pow(data['gz'][i+3]-meaz2/mea2,2),0.5))/(7*sigmaa)\n",
    "    y=(pow(data['gyro'][i-2],2)+pow(data['gyro'][i-1],2)+pow(data['gyro'][i],2)+pow(data['gyro'][i+1],2)+pow(data['gyro'][i+2],2))/(7*sigmaw)\n",
    "    z=math.log10(x+y)\n",
    "    arr_tm4=np.append(arr_tm4,z)\n",
    "    i+=1\n",
    "arr_tm4=np.append(arr_tm4,z)\n",
    "arr_tm4=np.append(arr_tm4,z)\n",
    "arr_tm4=np.append(arr_tm4,z)\n",
    "arr_tm4=np.append(arr_tm4,z)\n",
    "data['tm4']=arr_tm4\n",
    "\n",
    "data['mark_stance4']=(data['tm4']<6)\n",
    "l=0\n",
    "i=0\n",
    "j=0\n",
    "while(i<=2999):\n",
    "    k=j\n",
    "    l=0\n",
    "    while(j<=2999):\n",
    "        if data['mark_stance4'][j]==1 :\n",
    "            l+=1\n",
    "            j+=1\n",
    "        else :\n",
    "            if(l<20):\n",
    "                while(k<=j):\n",
    "                    data['mark_stance4'][k]=0\n",
    "                    k+=1\n",
    "            j+=1\n",
    "            k=j\n",
    "            l=0\n",
    "    i=j      \n",
    "l=0\n",
    "i=0\n",
    "j=0\n",
    "while(i<=2999):\n",
    "    k=j\n",
    "    l=0\n",
    "    while(j<=2999):\n",
    "        if data['mark_stance4'][j]==0 :\n",
    "            l+=1\n",
    "            j+=1\n",
    "        else :\n",
    "            if(l<20):\n",
    "                while(k<=j):\n",
    "                    data['mark_stance4'][k]=1\n",
    "                    k+=1\n",
    "            j+=1\n",
    "            k=j\n",
    "            l=0\n",
    "    i=j \n",
    "plt.plot(data['Time'],data['gx'],data['Time'],data['mark_stance4'])"
   ]
  },
  {
   "cell_type": "code",
   "execution_count": 32,
   "id": "2fc6341d",
   "metadata": {
    "scrolled": false
   },
   "outputs": [
    {
     "name": "stderr",
     "output_type": "stream",
     "text": [
      "<ipython-input-32-240e715d81d7>:64: SettingWithCopyWarning: \n",
      "A value is trying to be set on a copy of a slice from a DataFrame\n",
      "\n",
      "See the caveats in the documentation: https://pandas.pydata.org/pandas-docs/stable/user_guide/indexing.html#returning-a-view-versus-a-copy\n",
      "  data['mark_stance5'][k]=0\n",
      "<ipython-input-32-240e715d81d7>:83: SettingWithCopyWarning: \n",
      "A value is trying to be set on a copy of a slice from a DataFrame\n",
      "\n",
      "See the caveats in the documentation: https://pandas.pydata.org/pandas-docs/stable/user_guide/indexing.html#returning-a-view-versus-a-copy\n",
      "  data['mark_stance5'][k]=1\n"
     ]
    },
    {
     "data": {
      "text/plain": [
       "[<matplotlib.lines.Line2D at 0x1e1c34ad160>,\n",
       " <matplotlib.lines.Line2D at 0x1e1c3503880>,\n",
       " <matplotlib.lines.Line2D at 0x1e1c35037f0>,\n",
       " <matplotlib.lines.Line2D at 0x1e1c3503760>,\n",
       " <matplotlib.lines.Line2D at 0x1e1c3503a90>,\n",
       " <matplotlib.lines.Line2D at 0x1e1c3503b50>]"
      ]
     },
     "execution_count": 32,
     "metadata": {},
     "output_type": "execute_result"
    },
    {
     "data": {
      "image/png": "[encoded data removed]",
      "text/plain": [
       "<Figure size 432x288 with 1 Axes>"
      ]
     },
     "metadata": {
      "needs_background": "light"
     },
     "output_type": "display_data"
    }
   ],
   "source": [
    "# %matplotlib notebook\n",
    "z= np.var(data['acc'][0:5])\n",
    "arr_slipvar=np.array([0,0,0,0,0,z])\n",
    "i=6\n",
    "while(i<=2998):\n",
    "    z=np.var(data['acc'][i-5:i])\n",
    "    arr_slipvar=np.append(arr_slipvar,z)\n",
    "    i+=1\n",
    "data['slipvar']=arr_slipvar\n",
    "from scipy.signal import find_peaks\n",
    "x = data['slipvar']\n",
    "peaks, _ = find_peaks(x, height=0,distance=40)\n",
    "# plt.plot(x)\n",
    "# plt.plot(peaks, x[peaks], \"x\")\n",
    "# plt.plot(np.zeros_like(x), \"--\", color=\"gray\")\n",
    "# plt.show()\n",
    "#print(x[peaks])\n",
    "i=2206\n",
    "var1=arr_slipvar[i]\n",
    "while(i<=2262):\n",
    "    var1=min(arr_slipvar[i],var1)\n",
    "    i+=1\n",
    "i=2027\n",
    "var2=arr_slipvar[i]\n",
    "while(i<=2083):\n",
    "    var2=min(arr_slipvar[i],var2)\n",
    "    i+=1\n",
    "i=1836\n",
    "var3=arr_slipvar[i]\n",
    "while(i<=1897):\n",
    "    var3=min(arr_slipvar[i],var3)\n",
    "    i+=1\n",
    "i=1627\n",
    "var4=arr_slipvar[i]\n",
    "while(i<=1667):\n",
    "    var4=min(arr_slipvar[i],var4)\n",
    "    i+=1\n",
    "i=1260\n",
    "var5=arr_slipvar[i]\n",
    "while(i<=1317):\n",
    "    var5=min(arr_slipvar[i],var5)\n",
    "    i+=1\n",
    "i=1079\n",
    "var6=arr_slipvar[i]\n",
    "while(i<=1137):\n",
    "    var6=min(arr_slipvar[i],var6)\n",
    "    i+=1\n",
    "var7=arr_slipvar[i]\n",
    "acc_thresh= max(var1,var2,var3,var4,var5,var6)\n",
    "data['mark_stance5']=(data['slipvar']<=(0.0005))\n",
    "l=0\n",
    "i=0\n",
    "j=0\n",
    "while(i<=2998):\n",
    "    k=j\n",
    "    l=0\n",
    "    while(j<=2998):\n",
    "        if data['mark_stance5'][j]==1 :\n",
    "            l+=1\n",
    "            j+=1\n",
    "        else :\n",
    "            if(l<20):\n",
    "                while(k<=j):\n",
    "                    data['mark_stance5'][k]=0\n",
    "                    k+=1\n",
    "            j+=1\n",
    "            k=j\n",
    "            l=0\n",
    "    i=j      \n",
    "l=0\n",
    "i=0\n",
    "j=0\n",
    "while(i<=2998):\n",
    "    k=j\n",
    "    l=0\n",
    "    while(j<=2998):\n",
    "        if data['mark_stance5'][j]==0 :\n",
    "            l+=1\n",
    "            j+=1\n",
    "        else :\n",
    "            if(l<10):\n",
    "                while(k<=j):\n",
    "                    data['mark_stance5'][k]=1\n",
    "                    k+=1\n",
    "            j+=1\n",
    "            k=j\n",
    "            l=0\n",
    "    i=j \n",
    "plt.plot(data['Time'],data['gx'],data['Time'],data['mark_stance5'], data['Time'],data['mark_stance4'], data['Time'],data['mark_stance3'],data['Time'],data['mark_stance2'], data['Time'],data['mark_stance1'])\n",
    "\n",
    "\n",
    "\n"
   ]
  },
  {
   "cell_type": "code",
   "execution_count": 33,
   "id": "98b6d48e",
   "metadata": {},
   "outputs": [
    {
     "name": "stdout",
     "output_type": "stream",
     "text": [
      "0.9563187729243081\n",
      "0.9633211070356785\n",
      "0.9579859953317773\n",
      "0.9679893297765922\n"
     ]
    }
   ],
   "source": [
    "#data['mark_stance']= ((data['vx'] >= 0.096) & (data['vx']<= 0.115)& (data['vz']>=-0.02) & (data['vz']<=0.02) & (data['vy']>=-0.02) & (data['vy']<=0.02) & (data['thetax']>=-0.05) & (data['thetax']<=0.05))\n",
    "#plt.plot(data['Time'],data['gx'],data['Time'],data['mark_stance5'] )\n",
    "from sklearn.metrics import accuracy_score\n",
    "print(accuracy_score(data['mark_stance5'], data['mark_stance1']))\n",
    "print(accuracy_score(data['mark_stance5'], data['mark_stance2']))\n",
    "print(accuracy_score(data['mark_stance5'], data['mark_stance3']))\n",
    "print(accuracy_score(data['mark_stance5'], data['mark_stance4']))"
   ]
  },
  {
   "cell_type": "code",
   "execution_count": 45,
   "id": "36a444b2",
   "metadata": {},
   "outputs": [
    {
     "name": "stdout",
     "output_type": "stream",
     "text": [
      "0       1.097293\n",
      "1       1.067477\n",
      "2       1.061962\n",
      "3       1.065065\n",
      "4       1.074976\n",
      "          ...   \n",
      "2995    0.998715\n",
      "2996    0.998976\n",
      "2997    0.999381\n",
      "2998    0.999381\n",
      "2999    0.999381\n",
      "Name: mean_acc, Length: 3000, dtype: float64\n"
     ]
    }
   ],
   "source": [
    "arr_mean= np.array([data['acc'][0:1]])\n",
    "i=2\n",
    "while(i<=2998):\n",
    "    x= np.mean(data['acc'][i-2:i+2])\n",
    "    arr_mean=np.append(arr_mean,x)\n",
    "    i+=1\n",
    "arr_mean=np.append(arr_mean,x)\n",
    "arr_mean=np.append(arr_mean,x)\n",
    "data['mean_acc']=arr_mean\n",
    "print(data['mean_acc'])"
   ]
  },
  {
   "cell_type": "code",
   "execution_count": 46,
   "id": "ab38963b",
   "metadata": {},
   "outputs": [
    {
     "name": "stdout",
     "output_type": "stream",
     "text": [
      "0       0.000350\n",
      "1       0.000350\n",
      "2       0.000112\n",
      "3       0.000175\n",
      "4       0.000109\n",
      "          ...   \n",
      "2995    0.000004\n",
      "2996    0.000004\n",
      "2997    0.000002\n",
      "2998    0.000002\n",
      "2999    0.000002\n",
      "Name: var_acc, Length: 3000, dtype: float64\n"
     ]
    }
   ],
   "source": [
    "arr_var= np.array(np.var([data['acc'][0:4]]))\n",
    "j=2\n",
    "while(j<=2998):\n",
    "    x= np.var(data['acc'][j-2:j+2])\n",
    "    arr_var=np.append(arr_var,x)\n",
    "    j+=1\n",
    "arr_var=np.append(arr_var,x)\n",
    "arr_var=np.append(arr_var,x)\n",
    "data['var_acc']=arr_var\n",
    "print(data['var_acc'])"
   ]
  },
  {
   "cell_type": "code",
   "execution_count": 47,
   "id": "d678daae",
   "metadata": {},
   "outputs": [
    {
     "name": "stdout",
     "output_type": "stream",
     "text": [
      "0       0.018701\n",
      "1       0.018701\n",
      "2       0.010587\n",
      "3       0.013240\n",
      "4       0.010448\n",
      "          ...   \n",
      "2995    0.002025\n",
      "2996    0.001883\n",
      "2997    0.001461\n",
      "2998    0.001461\n",
      "2999    0.001461\n",
      "Name: rmse_acc, Length: 3000, dtype: float64\n"
     ]
    }
   ],
   "source": [
    "x=np.mean(data['acc'][0:4])\n",
    "y= ((sum((data['acc'][0:4]-x)**2))/4)**0.5\n",
    "arr_rmse = np.array(y);\n",
    "j=2\n",
    "while(j<=2998):\n",
    "    x=np.mean(data['acc'][j-2:j+2])\n",
    "    y= ((sum((data['acc'][j-2:j+2]-x)**2))/4)**0.5\n",
    "    arr_rmse=np.append(arr_rmse,y)\n",
    "    j+=1\n",
    "arr_rmse=np.append(arr_rmse,y)\n",
    "arr_rmse=np.append(arr_rmse,y)\n",
    "data['rmse_acc']=arr_rmse\n",
    "print(data['rmse_acc'])\n"
   ]
  },
  {
   "cell_type": "code",
   "execution_count": 48,
   "id": "b7e180fb",
   "metadata": {},
   "outputs": [
    {
     "name": "stdout",
     "output_type": "stream",
     "text": [
      "0       0.014915\n",
      "1       0.014915\n",
      "2       0.009400\n",
      "3       0.012503\n",
      "4       0.008357\n",
      "          ...   \n",
      "2995    0.001771\n",
      "2996    0.001510\n",
      "2997    0.001228\n",
      "2998    0.001228\n",
      "2999    0.001228\n",
      "Name: mae_acc, Length: 3000, dtype: float64\n"
     ]
    }
   ],
   "source": [
    "x= np.mean(data['acc'][0:4])\n",
    "y= ((sum(abs(data['acc'][0:4]-x)))/4)\n",
    "arr_mae = np.array(y);\n",
    "j=2\n",
    "while(j<=2998):\n",
    "    x=np.mean(data['acc'][j-2:j+2])\n",
    "    y= ((sum(abs(data['acc'][j-2:j+2]-x)))/4)\n",
    "    arr_mae=np.append(arr_mae,y)\n",
    "    j+=1\n",
    "arr_mae=np.append(arr_mae,y)\n",
    "arr_mae=np.append(arr_mae,y)\n",
    "data['mae_acc']=arr_mae\n",
    "print(data['mae_acc'])\n"
   ]
  },
  {
   "cell_type": "code",
   "execution_count": 49,
   "id": "9acf7bbd",
   "metadata": {},
   "outputs": [
    {
     "name": "stdout",
     "output_type": "stream",
     "text": [
      "0       0.126792\n",
      "1       0.126792\n",
      "2       0.124833\n",
      "3       0.140889\n",
      "4       0.149725\n",
      "          ...   \n",
      "2995    0.004758\n",
      "2996    0.005680\n",
      "2997    0.004696\n",
      "2998    0.004696\n",
      "2999    0.004696\n",
      "Name: mae_gyro, Length: 3000, dtype: float64\n"
     ]
    }
   ],
   "source": [
    "x= np.mean(data['gyro'][0:4])\n",
    "y= ((sum(abs(data['gyro'][0:4]-x)))/4)\n",
    "arr_mae = np.array(y);\n",
    "j=2\n",
    "while(j<=2998):\n",
    "    x=np.mean(data['gyro'][j-2:j+2])\n",
    "    y= ((sum(abs(data['gyro'][j-2:j+2]-x)))/4)\n",
    "    arr_mae=np.append(arr_mae,y)\n",
    "    j+=1\n",
    "arr_mae=np.append(arr_mae,y)\n",
    "arr_mae=np.append(arr_mae,y)\n",
    "data['mae_gyro']=arr_mae\n",
    "print(data['mae_gyro'])"
   ]
  },
  {
   "cell_type": "code",
   "execution_count": 50,
   "id": "35ea199a",
   "metadata": {},
   "outputs": [
    {
     "name": "stdout",
     "output_type": "stream",
     "text": [
      "1.1536910950119483\n"
     ]
    }
   ],
   "source": [
    "arr_q= np.array(data['acc'])\n",
    "arr_q=sorted(arr_q)\n",
    "Q3_acc = np.median(arr_q[1499:])\n",
    "print(Q3_acc)"
   ]
  },
  {
   "cell_type": "code",
   "execution_count": 51,
   "id": "72884ef8",
   "metadata": {},
   "outputs": [
    {
     "name": "stdout",
     "output_type": "stream",
     "text": [
      "2.2177788187411323\n"
     ]
    }
   ],
   "source": [
    "arr_q= np.array(data['gyro'])\n",
    "arr_q=sorted(arr_q)\n",
    "Q3_gyro = np.median(arr_q[1499:])\n",
    "print(Q3_gyro)"
   ]
  },
  {
   "cell_type": "code",
   "execution_count": 52,
   "id": "4d45147f",
   "metadata": {},
   "outputs": [
    {
     "name": "stdout",
     "output_type": "stream",
     "text": [
      "[[ 1.          0.20185889 -0.09046866  0.07444351  0.08111768 -0.04664122]\n",
      " [ 0.20185889  1.         -0.35099289 -0.05354889  0.03885859 -0.0538984 ]\n",
      " [-0.09046866 -0.35099289  1.         -0.13090702 -0.07902316  0.08431389]\n",
      " [ 0.07444351 -0.05354889 -0.13090702  1.         -0.04747358 -0.45471141]\n",
      " [ 0.08111768  0.03885859 -0.07902316 -0.04747358  1.          0.66289829]\n",
      " [-0.04664122 -0.0538984   0.08431389 -0.45471141  0.66289829  1.        ]]\n"
     ]
    }
   ],
   "source": [
    "arr5=np.array([data['gx'],data['gy'],data['gz'],data['gyx'],data['gyy'],data['gyz']])\n",
    "arr6=np.corrcoef(arr5)\n",
    "arr6.shape\n",
    "print(arr6)"
   ]
  },
  {
   "cell_type": "code",
   "execution_count": 53,
   "id": "80687e07",
   "metadata": {},
   "outputs": [
    {
     "name": "stdout",
     "output_type": "stream",
     "text": [
      "[[ 1.          0.20185889 -0.09046866  0.07444351  0.08111768 -0.04664122\n",
      "   0.76283713  0.35356675  0.75061194  0.17762787  0.23101614  0.23768575\n",
      "   0.02652004]\n",
      " [ 0.20185889  1.         -0.35099289 -0.05354889  0.03885859 -0.0538984\n",
      "   0.44031428  0.17007868  0.4429883  -0.00886968  0.05948931  0.05035377\n",
      "   0.08404269]\n",
      " [-0.09046866 -0.35099289  1.         -0.13090702 -0.07902316  0.08431389\n",
      "  -0.45230099 -0.08544992 -0.47900202  0.04647414  0.00645894  0.01513306\n",
      "  -0.22982841]\n",
      " [ 0.07444351 -0.05354889 -0.13090702  1.         -0.04747358 -0.45471141\n",
      "   0.11427367 -0.17381447  0.10806148  0.13576546  0.20665873  0.20453164\n",
      "   0.07524193]\n",
      " [ 0.08111768  0.03885859 -0.07902316 -0.04747358  1.          0.66289829\n",
      "   0.10352739  0.37040717  0.1432773  -0.08924064 -0.05982913 -0.05721926\n",
      "  -0.01091775]\n",
      " [-0.04664122 -0.0538984   0.08431389 -0.45471141  0.66289829  1.\n",
      "  -0.04780714  0.40554493 -0.01995994 -0.12680088 -0.11580549 -0.11068492\n",
      "   0.00842835]\n",
      " [ 0.76283713  0.44031428 -0.45230099  0.11427367  0.10352739 -0.04780714\n",
      "   1.          0.44589212  0.96988914  0.37081038  0.46539042  0.46834562\n",
      "   0.4219301 ]\n",
      " [ 0.35356675  0.17007868 -0.08544992 -0.17381447  0.37040717  0.40554493\n",
      "   0.44589212  1.          0.4737247   0.17229626  0.41349956  0.41322779\n",
      "   0.47300685]\n",
      " [ 0.75061194  0.4429883  -0.47900202  0.10806148  0.1432773  -0.01995994\n",
      "   0.96988914  0.4737247   1.          0.3716611   0.46779548  0.46832181\n",
      "   0.41602245]\n",
      " [ 0.17762787 -0.00886968  0.04647414  0.13576546 -0.08924064 -0.12680088\n",
      "   0.37081038  0.17229626  0.3716611   1.          0.87824087  0.87642441\n",
      "   0.49872235]\n",
      " [ 0.23101614  0.05948931  0.00645894  0.20665873 -0.05982913 -0.11580549\n",
      "   0.46539042  0.41349956  0.46779548  0.87824087  1.          0.99707389\n",
      "   0.63824723]\n",
      " [ 0.23768575  0.05035377  0.01513306  0.20453164 -0.05721926 -0.11068492\n",
      "   0.46834562  0.41322779  0.46832181  0.87642441  0.99707389  1.\n",
      "   0.63882783]\n",
      " [ 0.02652004  0.08404269 -0.22982841  0.07524193 -0.01091775  0.00842835\n",
      "   0.4219301   0.47300685  0.41602245  0.49872235  0.63824723  0.63882783\n",
      "   1.        ]]\n"
     ]
    }
   ],
   "source": [
    "import seaborn as sns\n",
    "arr5=np.array([data['gx'],data['gy'],data['gz'],data['gyx'],data['gyy'],data['gyz'], data['acc'], data['gyro'], data['mean_acc'], data['var_acc'], data['rmse_acc'],data['mae_acc'], data['mae_gyro']])\n",
    "arr6=np.corrcoef(arr5)\n",
    "print(arr6)"
   ]
  },
  {
   "cell_type": "code",
   "execution_count": 54,
   "id": "79e0c539",
   "metadata": {},
   "outputs": [
    {
     "data": {
      "text/html": [
       "<div>\n",
       "<style scoped>\n",
       "    .dataframe tbody tr th:only-of-type {\n",
       "        vertical-align: middle;\n",
       "    }\n",
       "\n",
       "    .dataframe tbody tr th {\n",
       "        vertical-align: top;\n",
       "    }\n",
       "\n",
       "    .dataframe thead th {\n",
       "        text-align: right;\n",
       "    }\n",
       "</style>\n",
       "<table border=\"1\" class=\"dataframe\">\n",
       "  <thead>\n",
       "    <tr style=\"text-align: right;\">\n",
       "      <th></th>\n",
       "      <th>gx</th>\n",
       "      <th>gy</th>\n",
       "      <th>gz</th>\n",
       "      <th>gyx</th>\n",
       "      <th>gyy</th>\n",
       "      <th>gyz</th>\n",
       "      <th>thetax</th>\n",
       "      <th>thetay</th>\n",
       "      <th>thetaz</th>\n",
       "      <th>vx</th>\n",
       "      <th>...</th>\n",
       "      <th>tm2</th>\n",
       "      <th>mark_stance2</th>\n",
       "      <th>tm3</th>\n",
       "      <th>mark_stance3</th>\n",
       "      <th>tm4</th>\n",
       "      <th>mark_stance4</th>\n",
       "      <th>mean_acc</th>\n",
       "      <th>var_acc</th>\n",
       "      <th>rmse_acc</th>\n",
       "      <th>mae_acc</th>\n",
       "    </tr>\n",
       "  </thead>\n",
       "  <tbody>\n",
       "    <tr>\n",
       "      <th>0</th>\n",
       "      <td>957.0</td>\n",
       "      <td>0.348379</td>\n",
       "      <td>-0.434298</td>\n",
       "      <td>-0.226261</td>\n",
       "      <td>0.969430</td>\n",
       "      <td>0.602190</td>\n",
       "      <td>-0.002236</td>\n",
       "      <td>0.009503</td>\n",
       "      <td>0.005938</td>\n",
       "      <td>0.009427</td>\n",
       "      <td>...</td>\n",
       "      <td>0.839296</td>\n",
       "      <td>False</td>\n",
       "      <td>0.037122</td>\n",
       "      <td>False</td>\n",
       "      <td>5.523118</td>\n",
       "      <td>False</td>\n",
       "      <td>1.097293</td>\n",
       "      <td>0.000350</td>\n",
       "      <td>0.018701</td>\n",
       "      <td>0.014915</td>\n",
       "    </tr>\n",
       "    <tr>\n",
       "      <th>1</th>\n",
       "      <td>613.0</td>\n",
       "      <td>0.345753</td>\n",
       "      <td>-0.455962</td>\n",
       "      <td>-0.187025</td>\n",
       "      <td>0.842937</td>\n",
       "      <td>0.539810</td>\n",
       "      <td>-0.001824</td>\n",
       "      <td>0.008248</td>\n",
       "      <td>0.005283</td>\n",
       "      <td>0.008931</td>\n",
       "      <td>...</td>\n",
       "      <td>0.839296</td>\n",
       "      <td>False</td>\n",
       "      <td>0.037122</td>\n",
       "      <td>False</td>\n",
       "      <td>5.523118</td>\n",
       "      <td>False</td>\n",
       "      <td>1.067477</td>\n",
       "      <td>0.000350</td>\n",
       "      <td>0.018701</td>\n",
       "      <td>0.014915</td>\n",
       "    </tr>\n",
       "    <tr>\n",
       "      <th>2</th>\n",
       "      <td>486.0</td>\n",
       "      <td>0.345597</td>\n",
       "      <td>-0.464276</td>\n",
       "      <td>-0.127847</td>\n",
       "      <td>0.725312</td>\n",
       "      <td>0.505164</td>\n",
       "      <td>-0.001211</td>\n",
       "      <td>0.007085</td>\n",
       "      <td>0.004919</td>\n",
       "      <td>0.008632</td>\n",
       "      <td>...</td>\n",
       "      <td>0.614739</td>\n",
       "      <td>False</td>\n",
       "      <td>0.839296</td>\n",
       "      <td>False</td>\n",
       "      <td>5.523118</td>\n",
       "      <td>False</td>\n",
       "      <td>1.061962</td>\n",
       "      <td>0.000112</td>\n",
       "      <td>0.010587</td>\n",
       "      <td>0.009400</td>\n",
       "    </tr>\n",
       "    <tr>\n",
       "      <th>3</th>\n",
       "      <td>499.0</td>\n",
       "      <td>0.369927</td>\n",
       "      <td>-0.462890</td>\n",
       "      <td>-0.088266</td>\n",
       "      <td>0.603524</td>\n",
       "      <td>0.488553</td>\n",
       "      <td>-0.000808</td>\n",
       "      <td>0.005895</td>\n",
       "      <td>0.004944</td>\n",
       "      <td>0.008738</td>\n",
       "      <td>...</td>\n",
       "      <td>0.429493</td>\n",
       "      <td>False</td>\n",
       "      <td>0.614739</td>\n",
       "      <td>False</td>\n",
       "      <td>5.613129</td>\n",
       "      <td>False</td>\n",
       "      <td>1.065065</td>\n",
       "      <td>0.000175</td>\n",
       "      <td>0.013240</td>\n",
       "      <td>0.012503</td>\n",
       "    </tr>\n",
       "    <tr>\n",
       "      <th>4</th>\n",
       "      <td>498.0</td>\n",
       "      <td>0.417095</td>\n",
       "      <td>-0.461940</td>\n",
       "      <td>-0.052705</td>\n",
       "      <td>0.470928</td>\n",
       "      <td>0.416008</td>\n",
       "      <td>-0.000482</td>\n",
       "      <td>0.004527</td>\n",
       "      <td>0.004096</td>\n",
       "      <td>0.008758</td>\n",
       "      <td>...</td>\n",
       "      <td>0.278910</td>\n",
       "      <td>False</td>\n",
       "      <td>0.429493</td>\n",
       "      <td>False</td>\n",
       "      <td>5.632172</td>\n",
       "      <td>False</td>\n",
       "      <td>1.074976</td>\n",
       "      <td>0.000109</td>\n",
       "      <td>0.010448</td>\n",
       "      <td>0.008357</td>\n",
       "    </tr>\n",
       "  </tbody>\n",
       "</table>\n",
       "<p>5 rows × 29 columns</p>\n",
       "</div>"
      ],
      "text/plain": [
       "      gx        gy        gz       gyx       gyy       gyz    thetax  \\\n",
       "0  957.0  0.348379 -0.434298 -0.226261  0.969430  0.602190 -0.002236   \n",
       "1  613.0  0.345753 -0.455962 -0.187025  0.842937  0.539810 -0.001824   \n",
       "2  486.0  0.345597 -0.464276 -0.127847  0.725312  0.505164 -0.001211   \n",
       "3  499.0  0.369927 -0.462890 -0.088266  0.603524  0.488553 -0.000808   \n",
       "4  498.0  0.417095 -0.461940 -0.052705  0.470928  0.416008 -0.000482   \n",
       "\n",
       "     thetay    thetaz        vx  ...       tm2  mark_stance2       tm3  \\\n",
       "0  0.009503  0.005938  0.009427  ...  0.839296         False  0.037122   \n",
       "1  0.008248  0.005283  0.008931  ...  0.839296         False  0.037122   \n",
       "2  0.007085  0.004919  0.008632  ...  0.614739         False  0.839296   \n",
       "3  0.005895  0.004944  0.008738  ...  0.429493         False  0.614739   \n",
       "4  0.004527  0.004096  0.008758  ...  0.278910         False  0.429493   \n",
       "\n",
       "   mark_stance3       tm4  mark_stance4  mean_acc   var_acc  rmse_acc  \\\n",
       "0         False  5.523118         False  1.097293  0.000350  0.018701   \n",
       "1         False  5.523118         False  1.067477  0.000350  0.018701   \n",
       "2         False  5.523118         False  1.061962  0.000112  0.010587   \n",
       "3         False  5.613129         False  1.065065  0.000175  0.013240   \n",
       "4         False  5.632172         False  1.074976  0.000109  0.010448   \n",
       "\n",
       "    mae_acc  \n",
       "0  0.014915  \n",
       "1  0.014915  \n",
       "2  0.009400  \n",
       "3  0.012503  \n",
       "4  0.008357  \n",
       "\n",
       "[5 rows x 29 columns]"
      ]
     },
     "execution_count": 54,
     "metadata": {},
     "output_type": "execute_result"
    }
   ],
   "source": [
    "from sklearn.preprocessing import LabelEncoder, OneHotEncoder\n",
    "import warnings\n",
    "warnings.filterwarnings(\"ignore\")\n",
    "from sklearn.model_selection import train_test_split\n",
    "from sklearn.svm import SVC\n",
    "from sklearn.metrics import confusion_matrix\n",
    "np.random.seed(123)\n",
    "data.dropna(how='all', axis=1, inplace=True)\n",
    "data = data.iloc[:,1:-1]\n",
    "label_encoder = LabelEncoder()\n",
    "data.iloc[:,0] = label_encoder.fit_transform(data.iloc[:,0]).astype('float64')\n",
    "data.head()"
   ]
  },
  {
   "cell_type": "code",
   "execution_count": 55,
   "id": "21244d68",
   "metadata": {},
   "outputs": [],
   "source": [
    "from sklearn.linear_model import LogisticRegression\n",
    "from sklearn.metrics import confusion_matrix\n",
    "from sklearn.model_selection import train_test_split\n",
    "# X=data.drop({'mark_stance5','Time','vx','vy','vz','thetax','thetay','thetaz'},axis='columns')\n",
    "# y=data['mark_stance5']\n",
    "# X_train, X_test, y_train, y_test = train_test_split(X, y, test_size=0.25, random_state=2021)\n",
    "# print(\"X_train:\", X_train.shape) # X_train\n",
    "# print(\"X_test:\",X_test.shape) # X_test\n",
    "# print(\"y_train:\",y_train.shape) # y_train\n",
    "# print(\"y_test:\",y_test.shape) # y_test\n",
    "from sklearn.preprocessing import StandardScaler\n",
    "scaler=StandardScaler()\n",
    "# X_train_scaled=scaler.fit_transform(X_train)\n",
    "# X_test_scaled=scaler.transform(X_test)\n",
    "# classification=LogisticRegression(random_state=2021)\n",
    "# classification.fit(X_train_scaled,y_train)\n",
    "# y_predict=classification.predict(X_test_scaled)\n",
    "# y_predict\n",
    "\n"
   ]
  },
  {
   "cell_type": "code",
   "execution_count": 56,
   "id": "e519b14a",
   "metadata": {},
   "outputs": [
    {
     "data": {
      "text/plain": [
       "<AxesSubplot:>"
      ]
     },
     "execution_count": 56,
     "metadata": {},
     "output_type": "execute_result"
    },
    {
     "data": {
      "image/png": "[encoded data removed]",
      "text/plain": [
       "<Figure size 432x288 with 2 Axes>"
      ]
     },
     "metadata": {
      "needs_background": "light"
     },
     "output_type": "display_data"
    }
   ],
   "source": [
    "\n",
    "import seaborn as sns\n",
    "corr = data.corr()\n",
    "sns.heatmap(corr)"
   ]
  },
  {
   "cell_type": "code",
   "execution_count": 57,
   "id": "48bd422d",
   "metadata": {},
   "outputs": [],
   "source": [
    "columns = np.full((corr.shape[0],), True, dtype=bool)\n",
    "for i in range(corr.shape[0]):\n",
    "    for j in range(i+1, corr.shape[0]):\n",
    "        if corr.iloc[i,j] >= 0.9:\n",
    "            if columns[j]:\n",
    "                columns[j] = False"
   ]
  },
  {
   "cell_type": "code",
   "execution_count": 58,
   "id": "c4aa3b92",
   "metadata": {},
   "outputs": [
    {
     "name": "stdout",
     "output_type": "stream",
     "text": [
      "['gy' 'gz' 'gyx' 'gyy' 'gyz' 'vx' 'acc' 'gyro' 'Var' 'tm1' 'mark_stance1'\n",
      " 'mark_stance2' 'mark_stance4' 'var_acc' 'rmse_acc']\n"
     ]
    }
   ],
   "source": [
    "selected_columns = data.columns[columns]\n",
    "data = data[selected_columns]\n",
    "selected_columns = selected_columns[1:].values\n",
    "print(selected_columns)"
   ]
  },
  {
   "cell_type": "code",
   "execution_count": 59,
   "id": "dd8e64a3",
   "metadata": {},
   "outputs": [],
   "source": [
    "import statsmodels.formula.api as sm\n",
    "import statsmodels.api as sm\n",
    "def backwardElimination(x, Y, sl, columns):\n",
    "    numVars = len(x[0])\n",
    "    for i in range(0, numVars):\n",
    "        regressor_OLS = sm.OLS(Y, x).fit()\n",
    "        maxVar = max(regressor_OLS.pvalues).astype(float)\n",
    "        if maxVar > sl:\n",
    "            for j in range(0, numVars - i):\n",
    "                if (regressor_OLS.pvalues[j].astype(float) == maxVar):\n",
    "                    x = np.delete(x, j, 1)\n",
    "                    columns = np.delete(columns, j)                    \n",
    "    regressor_OLS.summary()\n",
    "    return x, columns"
   ]
  },
  {
   "cell_type": "code",
   "execution_count": 60,
   "id": "24c0a85e",
   "metadata": {},
   "outputs": [
    {
     "name": "stdout",
     "output_type": "stream",
     "text": [
      "['gz' 'gyz' 'vx' 'acc' 'tm1' 'mark_stance2' 'mark_stance4' 'rmse_acc']\n"
     ]
    }
   ],
   "source": [
    "SL = 0.01\n",
    "Y=data.iloc[:,1:].values\n",
    "Y=np.array(Y, dtype=float)\n",
    "X_opt=data.iloc[:,0].values\n",
    "X_opt = np.array(X_opt, dtype=float)\n",
    "data_modeled, selected_columns = backwardElimination(Y,X_opt, SL, selected_columns)\n",
    "print(selected_columns)"
   ]
  },
  {
   "cell_type": "code",
   "execution_count": 61,
   "id": "b7c560da",
   "metadata": {},
   "outputs": [
    {
     "data": {
      "text/html": [
       "<div>\n",
       "<style scoped>\n",
       "    .dataframe tbody tr th:only-of-type {\n",
       "        vertical-align: middle;\n",
       "    }\n",
       "\n",
       "    .dataframe tbody tr th {\n",
       "        vertical-align: top;\n",
       "    }\n",
       "\n",
       "    .dataframe thead th {\n",
       "        text-align: right;\n",
       "    }\n",
       "</style>\n",
       "<table border=\"1\" class=\"dataframe\">\n",
       "  <thead>\n",
       "    <tr style=\"text-align: right;\">\n",
       "      <th></th>\n",
       "      <th>gx</th>\n",
       "      <th>gy</th>\n",
       "      <th>gz</th>\n",
       "      <th>gyx</th>\n",
       "      <th>gyy</th>\n",
       "      <th>gyz</th>\n",
       "      <th>vx</th>\n",
       "      <th>acc</th>\n",
       "      <th>gyro</th>\n",
       "      <th>Var</th>\n",
       "      <th>tm1</th>\n",
       "      <th>var_acc</th>\n",
       "      <th>rmse_acc</th>\n",
       "    </tr>\n",
       "  </thead>\n",
       "  <tbody>\n",
       "    <tr>\n",
       "      <th>count</th>\n",
       "      <td>3000.000000</td>\n",
       "      <td>3000.000000</td>\n",
       "      <td>3000.000000</td>\n",
       "      <td>3000.000000</td>\n",
       "      <td>3000.000000</td>\n",
       "      <td>3000.000000</td>\n",
       "      <td>3000.000000</td>\n",
       "      <td>3000.000000</td>\n",
       "      <td>3000.000000</td>\n",
       "      <td>3.000000e+03</td>\n",
       "      <td>3000.000000</td>\n",
       "      <td>3.000000e+03</td>\n",
       "      <td>3000.000000</td>\n",
       "    </tr>\n",
       "    <tr>\n",
       "      <th>mean</th>\n",
       "      <td>1499.500000</td>\n",
       "      <td>0.267995</td>\n",
       "      <td>-0.233810</td>\n",
       "      <td>-0.083102</td>\n",
       "      <td>-0.054576</td>\n",
       "      <td>0.052532</td>\n",
       "      <td>0.009921</td>\n",
       "      <td>1.135538</td>\n",
       "      <td>1.421591</td>\n",
       "      <td>1.101724e-05</td>\n",
       "      <td>3.807302</td>\n",
       "      <td>1.250586e-02</td>\n",
       "      <td>0.052361</td>\n",
       "    </tr>\n",
       "    <tr>\n",
       "      <th>std</th>\n",
       "      <td>866.169729</td>\n",
       "      <td>0.283025</td>\n",
       "      <td>0.382138</td>\n",
       "      <td>1.013514</td>\n",
       "      <td>1.702803</td>\n",
       "      <td>0.755727</td>\n",
       "      <td>0.003214</td>\n",
       "      <td>0.377721</td>\n",
       "      <td>1.577633</td>\n",
       "      <td>2.227711e-05</td>\n",
       "      <td>1.798208</td>\n",
       "      <td>5.833982e-02</td>\n",
       "      <td>0.098830</td>\n",
       "    </tr>\n",
       "    <tr>\n",
       "      <th>min</th>\n",
       "      <td>0.000000</td>\n",
       "      <td>-2.940099</td>\n",
       "      <td>-2.635513</td>\n",
       "      <td>-4.997886</td>\n",
       "      <td>-5.078764</td>\n",
       "      <td>-3.363599</td>\n",
       "      <td>-0.013192</td>\n",
       "      <td>0.087003</td>\n",
       "      <td>0.002907</td>\n",
       "      <td>5.877215e-09</td>\n",
       "      <td>-0.073505</td>\n",
       "      <td>1.021656e-08</td>\n",
       "      <td>0.000101</td>\n",
       "    </tr>\n",
       "    <tr>\n",
       "      <th>25%</th>\n",
       "      <td>749.750000</td>\n",
       "      <td>0.172140</td>\n",
       "      <td>-0.318209</td>\n",
       "      <td>-0.154716</td>\n",
       "      <td>-0.767124</td>\n",
       "      <td>-0.295914</td>\n",
       "      <td>0.009233</td>\n",
       "      <td>0.995217</td>\n",
       "      <td>0.183005</td>\n",
       "      <td>4.671310e-07</td>\n",
       "      <td>2.314719</td>\n",
       "      <td>9.132584e-06</td>\n",
       "      <td>0.003022</td>\n",
       "    </tr>\n",
       "    <tr>\n",
       "      <th>50%</th>\n",
       "      <td>1499.500000</td>\n",
       "      <td>0.226300</td>\n",
       "      <td>-0.179514</td>\n",
       "      <td>-0.010665</td>\n",
       "      <td>-0.135437</td>\n",
       "      <td>-0.009822</td>\n",
       "      <td>0.009769</td>\n",
       "      <td>1.005430</td>\n",
       "      <td>0.743611</td>\n",
       "      <td>8.161277e-07</td>\n",
       "      <td>3.847251</td>\n",
       "      <td>2.042311e-04</td>\n",
       "      <td>0.014291</td>\n",
       "    </tr>\n",
       "    <tr>\n",
       "      <th>75%</th>\n",
       "      <td>2249.250000</td>\n",
       "      <td>0.369429</td>\n",
       "      <td>-0.092050</td>\n",
       "      <td>0.139450</td>\n",
       "      <td>0.014805</td>\n",
       "      <td>0.159922</td>\n",
       "      <td>0.010151</td>\n",
       "      <td>1.153797</td>\n",
       "      <td>2.217799</td>\n",
       "      <td>1.128657e-05</td>\n",
       "      <td>5.432097</td>\n",
       "      <td>3.489733e-03</td>\n",
       "      <td>0.059074</td>\n",
       "    </tr>\n",
       "    <tr>\n",
       "      <th>max</th>\n",
       "      <td>2999.000000</td>\n",
       "      <td>3.976662</td>\n",
       "      <td>1.668042</td>\n",
       "      <td>4.148582</td>\n",
       "      <td>6.430784</td>\n",
       "      <td>2.794076</td>\n",
       "      <td>0.029912</td>\n",
       "      <td>3.977288</td>\n",
       "      <td>6.746009</td>\n",
       "      <td>1.470446e-04</td>\n",
       "      <td>7.235045</td>\n",
       "      <td>1.350244e+00</td>\n",
       "      <td>1.162000</td>\n",
       "    </tr>\n",
       "  </tbody>\n",
       "</table>\n",
       "</div>"
      ],
      "text/plain": [
       "                gx           gy           gz          gyx          gyy  \\\n",
       "count  3000.000000  3000.000000  3000.000000  3000.000000  3000.000000   \n",
       "mean   1499.500000     0.267995    -0.233810    -0.083102    -0.054576   \n",
       "std     866.169729     0.283025     0.382138     1.013514     1.702803   \n",
       "min       0.000000    -2.940099    -2.635513    -4.997886    -5.078764   \n",
       "25%     749.750000     0.172140    -0.318209    -0.154716    -0.767124   \n",
       "50%    1499.500000     0.226300    -0.179514    -0.010665    -0.135437   \n",
       "75%    2249.250000     0.369429    -0.092050     0.139450     0.014805   \n",
       "max    2999.000000     3.976662     1.668042     4.148582     6.430784   \n",
       "\n",
       "               gyz           vx          acc         gyro           Var  \\\n",
       "count  3000.000000  3000.000000  3000.000000  3000.000000  3.000000e+03   \n",
       "mean      0.052532     0.009921     1.135538     1.421591  1.101724e-05   \n",
       "std       0.755727     0.003214     0.377721     1.577633  2.227711e-05   \n",
       "min      -3.363599    -0.013192     0.087003     0.002907  5.877215e-09   \n",
       "25%      -0.295914     0.009233     0.995217     0.183005  4.671310e-07   \n",
       "50%      -0.009822     0.009769     1.005430     0.743611  8.161277e-07   \n",
       "75%       0.159922     0.010151     1.153797     2.217799  1.128657e-05   \n",
       "max       2.794076     0.029912     3.977288     6.746009  1.470446e-04   \n",
       "\n",
       "               tm1       var_acc     rmse_acc  \n",
       "count  3000.000000  3.000000e+03  3000.000000  \n",
       "mean      3.807302  1.250586e-02     0.052361  \n",
       "std       1.798208  5.833982e-02     0.098830  \n",
       "min      -0.073505  1.021656e-08     0.000101  \n",
       "25%       2.314719  9.132584e-06     0.003022  \n",
       "50%       3.847251  2.042311e-04     0.014291  \n",
       "75%       5.432097  3.489733e-03     0.059074  \n",
       "max       7.235045  1.350244e+00     1.162000  "
      ]
     },
     "execution_count": 61,
     "metadata": {},
     "output_type": "execute_result"
    }
   ],
   "source": [
    "\n",
    "data.describe()"
   ]
  },
  {
   "cell_type": "code",
   "execution_count": 62,
   "id": "89f4e49e",
   "metadata": {},
   "outputs": [
    {
     "data": {
      "text/plain": [
       "gx              0\n",
       "gy              0\n",
       "gz              0\n",
       "gyx             0\n",
       "gyy             0\n",
       "gyz             0\n",
       "vx              0\n",
       "acc             0\n",
       "gyro            0\n",
       "Var             0\n",
       "tm1             0\n",
       "mark_stance1    0\n",
       "mark_stance2    0\n",
       "mark_stance4    0\n",
       "var_acc         0\n",
       "rmse_acc        0\n",
       "dtype: int64"
      ]
     },
     "execution_count": 62,
     "metadata": {},
     "output_type": "execute_result"
    }
   ],
   "source": [
    "data.isna().sum()"
   ]
  },
  {
   "cell_type": "code",
   "execution_count": 64,
   "id": "64a7a626",
   "metadata": {},
   "outputs": [],
   "source": [
    "X=data.drop(['mark_stance1','mark_stance4','mark_stance2','tm1'],axis='columns')\n",
    "y=data['mark_stance1']\n",
    "X_train, X_test, y_train, y_test = train_test_split(X, y, test_size=0.25, random_state=2021)\n"
   ]
  },
  {
   "cell_type": "code",
   "execution_count": 65,
   "id": "7e4ea5c8",
   "metadata": {},
   "outputs": [
    {
     "name": "stdout",
     "output_type": "stream",
     "text": [
      "X_train: (2250, 12)\n",
      "X_test: (750, 12)\n",
      "y_train: (2250,)\n",
      "y_test: (750,)\n"
     ]
    }
   ],
   "source": [
    "print(\"X_train:\", X_train.shape) # X_train\n",
    "print(\"X_test:\",X_test.shape) # X_test\n",
    "print(\"y_train:\",y_train.shape) # y_train\n",
    "print(\"y_test:\",y_test.shape) # y_test\n"
   ]
  },
  {
   "cell_type": "code",
   "execution_count": 66,
   "id": "c5802a65",
   "metadata": {},
   "outputs": [],
   "source": [
    "scaler=StandardScaler()\n",
    "X_train_scaled=scaler.fit_transform(X_train)\n",
    "X_test_scaled=scaler.transform(X_test)\n"
   ]
  },
  {
   "cell_type": "code",
   "execution_count": 67,
   "id": "95c523b8",
   "metadata": {},
   "outputs": [
    {
     "data": {
      "text/plain": [
       "array([ True, False,  True,  True, False,  True,  True,  True,  True,\n",
       "        True,  True,  True,  True,  True, False,  True, False,  True,\n",
       "        True,  True,  True,  True, False,  True,  True,  True,  True,\n",
       "        True, False,  True,  True, False,  True,  True,  True,  True,\n",
       "        True,  True, False,  True, False, False,  True,  True, False,\n",
       "        True,  True,  True,  True,  True,  True,  True,  True,  True,\n",
       "       False, False, False,  True,  True,  True,  True,  True, False,\n",
       "        True,  True, False,  True,  True,  True,  True, False,  True,\n",
       "       False, False, False,  True, False, False,  True,  True, False,\n",
       "        True,  True,  True, False,  True, False,  True, False, False,\n",
       "        True,  True,  True,  True,  True,  True,  True, False,  True,\n",
       "        True,  True,  True,  True, False,  True,  True,  True, False,\n",
       "        True,  True,  True, False,  True,  True,  True, False,  True,\n",
       "        True, False,  True, False, False, False,  True,  True,  True,\n",
       "        True,  True, False, False,  True,  True, False,  True,  True,\n",
       "        True,  True,  True, False, False,  True, False,  True, False,\n",
       "        True,  True,  True, False,  True,  True, False,  True,  True,\n",
       "        True,  True,  True,  True,  True,  True, False,  True,  True,\n",
       "        True,  True,  True, False,  True, False,  True, False, False,\n",
       "        True,  True, False,  True,  True,  True,  True,  True,  True,\n",
       "       False,  True,  True,  True,  True,  True,  True,  True,  True,\n",
       "       False,  True,  True,  True, False,  True,  True,  True, False,\n",
       "        True,  True,  True, False,  True,  True, False,  True, False,\n",
       "       False,  True,  True,  True,  True, False,  True,  True,  True,\n",
       "        True, False, False, False, False,  True,  True, False, False,\n",
       "       False,  True, False,  True,  True,  True,  True,  True, False,\n",
       "        True,  True, False,  True,  True,  True, False,  True, False,\n",
       "       False,  True, False,  True, False,  True,  True,  True, False,\n",
       "        True,  True, False,  True, False,  True,  True,  True,  True,\n",
       "       False,  True,  True,  True, False,  True,  True,  True, False,\n",
       "       False, False,  True,  True, False,  True, False,  True,  True,\n",
       "        True,  True,  True,  True,  True, False,  True,  True,  True,\n",
       "        True, False, False,  True,  True,  True,  True,  True, False,\n",
       "        True,  True,  True, False,  True, False, False, False,  True,\n",
       "       False,  True,  True,  True,  True,  True, False,  True,  True,\n",
       "        True,  True,  True,  True,  True,  True,  True, False, False,\n",
       "        True,  True,  True,  True,  True,  True,  True,  True,  True,\n",
       "        True,  True,  True, False,  True,  True,  True,  True,  True,\n",
       "        True,  True,  True, False,  True,  True, False,  True,  True,\n",
       "        True, False,  True,  True,  True,  True,  True,  True,  True,\n",
       "        True, False, False,  True, False, False, False,  True,  True,\n",
       "       False, False, False,  True,  True,  True,  True,  True,  True,\n",
       "       False, False,  True, False,  True,  True, False,  True, False,\n",
       "        True, False,  True,  True,  True,  True,  True,  True,  True,\n",
       "       False,  True,  True,  True,  True,  True,  True,  True,  True,\n",
       "       False,  True,  True,  True, False,  True,  True,  True,  True,\n",
       "        True, False,  True,  True,  True,  True, False, False,  True,\n",
       "       False,  True,  True,  True,  True, False,  True,  True,  True,\n",
       "        True, False, False,  True, False,  True,  True,  True, False,\n",
       "       False,  True,  True,  True,  True,  True,  True,  True,  True,\n",
       "        True,  True,  True, False,  True, False, False, False,  True,\n",
       "        True,  True,  True,  True,  True,  True, False, False, False,\n",
       "        True,  True, False,  True, False,  True, False, False,  True,\n",
       "       False,  True,  True,  True,  True, False,  True, False, False,\n",
       "        True,  True, False,  True,  True, False, False,  True,  True,\n",
       "        True,  True, False,  True, False,  True, False,  True,  True,\n",
       "       False,  True,  True,  True,  True, False, False,  True,  True,\n",
       "        True,  True,  True, False, False, False,  True,  True,  True,\n",
       "        True,  True,  True,  True, False, False,  True,  True,  True,\n",
       "        True,  True,  True,  True,  True,  True,  True,  True,  True,\n",
       "        True,  True,  True,  True,  True,  True,  True,  True, False,\n",
       "        True,  True,  True, False, False,  True,  True,  True,  True,\n",
       "       False, False,  True,  True,  True,  True,  True,  True, False,\n",
       "       False,  True,  True,  True,  True,  True,  True,  True, False,\n",
       "        True,  True,  True,  True,  True, False,  True, False,  True,\n",
       "       False, False,  True,  True,  True,  True,  True,  True,  True,\n",
       "       False, False,  True,  True,  True,  True, False,  True,  True,\n",
       "        True,  True,  True,  True,  True,  True, False,  True,  True,\n",
       "        True, False,  True, False,  True, False, False, False,  True,\n",
       "        True,  True,  True,  True,  True, False,  True,  True,  True,\n",
       "       False, False,  True, False,  True,  True,  True, False, False,\n",
       "       False,  True,  True, False,  True,  True,  True,  True,  True,\n",
       "        True, False,  True, False,  True, False, False,  True, False,\n",
       "        True,  True, False,  True,  True, False,  True,  True,  True,\n",
       "        True, False, False,  True, False,  True,  True,  True, False,\n",
       "        True,  True,  True,  True,  True,  True,  True,  True,  True,\n",
       "       False,  True,  True,  True,  True,  True,  True, False,  True,\n",
       "        True, False, False, False,  True,  True, False,  True,  True,\n",
       "       False, False,  True,  True,  True,  True,  True,  True,  True,\n",
       "        True, False,  True, False, False, False,  True, False,  True,\n",
       "        True,  True,  True,  True, False, False, False,  True,  True,\n",
       "       False,  True,  True,  True,  True,  True,  True, False,  True,\n",
       "       False,  True, False, False,  True,  True,  True,  True, False,\n",
       "        True, False,  True])"
      ]
     },
     "execution_count": 67,
     "metadata": {},
     "output_type": "execute_result"
    }
   ],
   "source": [
    "classification=LogisticRegression(random_state=2021)\n",
    "classification.fit(X_train_scaled,y_train)\n",
    "y_predict=classification.predict(X_test_scaled)\n",
    "y_predict"
   ]
  },
  {
   "cell_type": "code",
   "execution_count": 68,
   "id": "e77419b9",
   "metadata": {},
   "outputs": [
    {
     "data": {
      "text/plain": [
       "<sklearn.metrics._plot.confusion_matrix.ConfusionMatrixDisplay at 0x2499b589760>"
      ]
     },
     "execution_count": 68,
     "metadata": {},
     "output_type": "execute_result"
    },
    {
     "data": {
      "image/png": "[encoded data removed]",
      "text/plain": [
       "<Figure size 432x288 with 2 Axes>"
      ]
     },
     "metadata": {
      "needs_background": "light"
     },
     "output_type": "display_data"
    }
   ],
   "source": [
    "from sklearn.metrics import confusion_matrix\n",
    "from sklearn.metrics import plot_confusion_matrix\n",
    "from sklearn.metrics import classification_report\n",
    "from sklearn.metrics import accuracy_score\n",
    "plot_confusion_matrix(classification, X_test_scaled, y_test)"
   ]
  },
  {
   "cell_type": "code",
   "execution_count": 69,
   "id": "7454b53c",
   "metadata": {},
   "outputs": [
    {
     "data": {
      "text/plain": [
       "0.952"
      ]
     },
     "execution_count": 69,
     "metadata": {},
     "output_type": "execute_result"
    }
   ],
   "source": [
    "accuracy_score(y_test,y_predict)"
   ]
  },
  {
   "cell_type": "code",
   "execution_count": 70,
   "id": "2ee54b3a",
   "metadata": {},
   "outputs": [
    {
     "data": {
      "text/plain": [
       "array([ True, False,  True,  True, False,  True,  True,  True,  True,\n",
       "        True,  True,  True,  True,  True, False,  True, False,  True,\n",
       "        True,  True,  True,  True, False,  True,  True,  True,  True,\n",
       "        True, False,  True,  True, False,  True,  True,  True,  True,\n",
       "        True,  True, False,  True, False, False,  True,  True, False,\n",
       "        True,  True,  True,  True,  True,  True,  True,  True,  True,\n",
       "       False, False, False,  True,  True,  True,  True,  True, False,\n",
       "        True,  True, False,  True,  True,  True,  True, False,  True,\n",
       "       False, False, False,  True, False, False,  True,  True, False,\n",
       "        True, False,  True, False,  True, False,  True, False, False,\n",
       "        True,  True,  True,  True,  True,  True,  True, False,  True,\n",
       "        True,  True,  True,  True, False,  True,  True,  True, False,\n",
       "        True,  True,  True, False,  True,  True,  True, False,  True,\n",
       "        True, False,  True, False, False,  True,  True,  True,  True,\n",
       "       False,  True, False, False,  True,  True, False,  True,  True,\n",
       "        True, False,  True, False,  True,  True, False,  True, False,\n",
       "        True,  True,  True, False,  True,  True, False,  True,  True,\n",
       "        True,  True,  True,  True,  True,  True, False,  True,  True,\n",
       "       False,  True,  True, False,  True, False,  True, False, False,\n",
       "        True,  True, False,  True,  True,  True, False,  True,  True,\n",
       "       False,  True,  True,  True,  True,  True,  True,  True,  True,\n",
       "       False,  True,  True,  True, False,  True,  True,  True, False,\n",
       "        True,  True,  True, False,  True,  True, False,  True, False,\n",
       "       False,  True,  True,  True,  True, False, False,  True,  True,\n",
       "        True, False, False, False, False,  True,  True, False, False,\n",
       "       False,  True, False,  True,  True,  True,  True,  True, False,\n",
       "        True,  True, False,  True,  True,  True, False,  True, False,\n",
       "       False,  True, False,  True, False,  True, False,  True, False,\n",
       "        True,  True, False,  True, False,  True,  True,  True,  True,\n",
       "       False,  True,  True,  True,  True,  True,  True,  True, False,\n",
       "        True, False,  True,  True, False,  True, False,  True,  True,\n",
       "        True,  True,  True,  True,  True, False,  True,  True,  True,\n",
       "        True, False, False,  True,  True,  True,  True,  True, False,\n",
       "        True,  True,  True,  True,  True, False, False, False,  True,\n",
       "       False,  True,  True,  True,  True,  True,  True,  True,  True,\n",
       "        True,  True,  True,  True,  True,  True,  True, False,  True,\n",
       "        True,  True,  True,  True,  True,  True,  True,  True,  True,\n",
       "        True,  True,  True, False,  True,  True,  True,  True,  True,\n",
       "        True,  True,  True, False,  True,  True, False,  True,  True,\n",
       "        True, False, False,  True,  True,  True,  True,  True,  True,\n",
       "        True, False, False,  True, False,  True, False,  True,  True,\n",
       "       False, False, False,  True,  True,  True,  True,  True,  True,\n",
       "       False, False,  True, False,  True,  True, False, False, False,\n",
       "        True, False,  True,  True,  True,  True,  True,  True,  True,\n",
       "       False,  True,  True,  True,  True,  True,  True,  True,  True,\n",
       "       False,  True,  True,  True, False,  True,  True,  True,  True,\n",
       "        True, False,  True,  True,  True, False, False, False,  True,\n",
       "       False,  True,  True,  True,  True, False,  True,  True,  True,\n",
       "        True, False,  True,  True, False,  True,  True,  True, False,\n",
       "       False,  True,  True,  True,  True,  True,  True,  True,  True,\n",
       "        True,  True,  True, False, False, False, False, False,  True,\n",
       "        True,  True,  True,  True,  True,  True, False, False, False,\n",
       "        True,  True, False,  True, False,  True, False, False,  True,\n",
       "       False,  True,  True,  True,  True, False,  True, False, False,\n",
       "        True,  True, False,  True,  True, False,  True,  True,  True,\n",
       "        True,  True, False,  True, False,  True, False,  True,  True,\n",
       "       False,  True,  True,  True,  True, False, False,  True,  True,\n",
       "        True,  True,  True, False, False, False,  True,  True,  True,\n",
       "        True,  True,  True,  True,  True, False,  True,  True,  True,\n",
       "        True,  True,  True,  True,  True,  True,  True,  True,  True,\n",
       "        True, False,  True,  True,  True,  True,  True,  True, False,\n",
       "        True,  True,  True,  True, False,  True,  True,  True,  True,\n",
       "       False, False,  True,  True,  True,  True,  True,  True, False,\n",
       "       False,  True,  True,  True,  True,  True,  True,  True, False,\n",
       "        True,  True,  True,  True,  True, False,  True, False,  True,\n",
       "       False, False,  True,  True,  True,  True,  True,  True,  True,\n",
       "       False, False,  True,  True,  True,  True, False,  True,  True,\n",
       "        True,  True,  True,  True,  True,  True, False,  True,  True,\n",
       "        True, False,  True, False,  True, False, False, False,  True,\n",
       "        True,  True,  True,  True,  True, False,  True,  True,  True,\n",
       "       False, False,  True, False,  True,  True,  True, False, False,\n",
       "       False,  True,  True, False,  True,  True,  True,  True,  True,\n",
       "        True, False,  True, False,  True,  True, False,  True, False,\n",
       "        True,  True, False,  True,  True, False,  True,  True,  True,\n",
       "        True, False, False,  True, False,  True,  True,  True, False,\n",
       "        True,  True,  True,  True,  True,  True,  True,  True,  True,\n",
       "       False,  True,  True,  True,  True,  True,  True, False,  True,\n",
       "        True, False, False, False,  True,  True, False,  True,  True,\n",
       "        True, False,  True,  True,  True,  True,  True,  True,  True,\n",
       "        True, False,  True, False, False, False,  True, False, False,\n",
       "        True,  True,  True,  True, False, False, False,  True,  True,\n",
       "       False,  True,  True,  True,  True,  True,  True, False,  True,\n",
       "        True,  True, False, False,  True,  True,  True,  True, False,\n",
       "        True, False,  True])"
      ]
     },
     "execution_count": 70,
     "metadata": {},
     "output_type": "execute_result"
    }
   ],
   "source": [
    "from sklearn import svm\n",
    "clf=svm.SVC(C=50,gamma='scale')\n",
    "clf.fit(X_train_scaled,y_train)\n",
    "y_predict=clf.predict(X_test_scaled)\n",
    "y_predict"
   ]
  },
  {
   "cell_type": "code",
   "execution_count": 79,
   "id": "bc675a07",
   "metadata": {},
   "outputs": [
    {
     "data": {
      "text/plain": [
       "<sklearn.metrics._plot.confusion_matrix.ConfusionMatrixDisplay at 0x1e1c541daf0>"
      ]
     },
     "execution_count": 79,
     "metadata": {},
     "output_type": "execute_result"
    },
    {
     "data": {
      "image/png": "[encoded data removed]",
      "text/plain": [
       "<Figure size 432x288 with 2 Axes>"
      ]
     },
     "metadata": {
      "needs_background": "light"
     },
     "output_type": "display_data"
    }
   ],
   "source": [
    "plot_confusion_matrix(clf, X_test_scaled, y_test)"
   ]
  },
  {
   "cell_type": "code",
   "execution_count": 80,
   "id": "9663ebc9",
   "metadata": {},
   "outputs": [
    {
     "data": {
      "text/plain": [
       "0.9786666666666667"
      ]
     },
     "execution_count": 80,
     "metadata": {},
     "output_type": "execute_result"
    }
   ],
   "source": [
    "accuracy_score(y_test,y_predict)"
   ]
  },
  {
   "cell_type": "code",
   "execution_count": null,
   "id": "96b33143",
   "metadata": {},
   "outputs": [],
   "source": []
  }
 ],
 "metadata": {
  "kernelspec": {
   "display_name": "Python 3",
   "language": "python",
   "name": "python3"
  },
  "language_info": {
   "codemirror_mode": {
    "name": "ipython",
    "version": 3
   },
   "file_extension": ".py",
   "mimetype": "text/x-python",
   "name": "python",
   "nbconvert_exporter": "python",
   "pygments_lexer": "ipython3",
   "version": "3.8.8"
  }
 },
 "nbformat": 4,
 "nbformat_minor": 5
}
